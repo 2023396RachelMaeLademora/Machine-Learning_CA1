{
 "cells": [
  {
   "cell_type": "markdown",
   "id": "41ecef8c",
   "metadata": {},
   "source": [
    "# Predicting type of crime in LA on given Time and location\n"
   ]
  },
  {
   "cell_type": "markdown",
   "id": "01a8d1cb",
   "metadata": {},
   "source": [
    "### Dataset Description "
   ]
  },
  {
   "cell_type": "markdown",
   "id": "76bdc30c",
   "metadata": {},
   "source": [
    "#### Columns\n",
    "    \n",
    "* DR_NO: Division of Records Number: Official file number made up of a 2 digit year, area ID, and 5 digits.\n",
    "* API Field Name: MM/DD/YYYY.\n",
    "* DATE OCC: MM/DD/YYYY.\n",
    "* TIME OCC: In 24 hour military time.\n",
    "* AREA: The LAPD has 21 Community Police Stations referred to as Geographic Areas within the department. These Geographic Areas are sequentially numbered from 1-21.\n",
    "* AREA NAME: The 21 Geographic Areas or Patrol Divisions are also given a name designation that references a landmark or the surrounding community that it is responsible for. For example 77th Street Division is located at the intersection of South * * Broadway and 77th Street, serving neighborhoods in South Los Angeles.\n",
    "* Rpt Dist No: A four-digit code that represents a sub-area within a Geographic Area. All crime records reference the \"RD\" that it occurred in for statistical comparisons.\n",
    "* Crm Cd: Indicates the crime committed. (Same as Crime Code 1)\n",
    "* Crm Cd Desc: Defines the Crime Code provided.\n",
    "* Mocodes: Modus Operandi: Activities associated with the suspect in commission of the crime.\n",
    "* Vict Age: Two character numeric.\n",
    "* Vict Sex: F - Female M - Male X - Unknown.\n",
    "* Vict Descent: Descent Code: A - Other Asian B - Black C - Chinese D - Cambodian F - Filipino G - Guamanian H - Hispanic/Latin/Mexican I - American Indian/Alaskan Native J - Japanese K - Korean L - Laotian O - Other P - Pacific Islander S - Samoan U - Hawaiian V - Vietnamese W - White X - Unknown Z - Asian Indian.\n",
    "* Premis Cd: The type of structure, vehicle, or location where the crime took place.\n",
    "* Premis Desc: Defines the Premise Code provided.\n",
    "* Weapon Used Cd: The type of weapon used in the crime.\n",
    "* Weapon Desc: Defines the Weapon Used Code provided.\n",
    "* Status: Status of the case. (IC is the default).\n",
    "* Status DEsc: Defines the Status Code provided.\n",
    "* Crm Cd 1: Indicates the crime committed. Crime Code 1 is the primary and most serious one. Crime Code 2, 3, and 4 are respectively less serious offenses. Lower crime class numbers are more serious.\n",
    "* Crm Cd 2: May contain a code for an additional crime, less serious than Crime Code 1.\n",
    "* Crm Cd 3: May contain a code for an additional crime, less serious than Crime Code 1.\n",
    "* Crm Cd 4: May contain a code for an additional crime, less serious than Crime Code 1.\n",
    "* LOCATION: Street address of crime incident rounded to the nearest hundred block to maintain anonymity.\n",
    "* Cross Street: Cross Street of rounded Address.\n",
    "* LAT: Latitude.\n",
    "* LON: Longitude."
   ]
  },
  {
   "cell_type": "markdown",
   "id": "c714b20e",
   "metadata": {},
   "source": [
    "### Import Libraries "
   ]
  },
  {
   "cell_type": "code",
   "execution_count": 2,
   "id": "3efb2c4e",
   "metadata": {},
   "outputs": [],
   "source": [
    "import pandas as pd\n",
    "import numpy as np\n",
    "import matplotlib.pyplot as plt\n",
    "import seaborn as sns\n",
    "import warnings\n",
    "warnings.filterwarnings(\"ignore\")\n",
    "\n",
    "%matplotlib inline"
   ]
  },
  {
   "cell_type": "markdown",
   "id": "0687d88e",
   "metadata": {},
   "source": [
    "The libraries is vital fro my dataset, because it will help us as a student to not restate the code upon implementing our data analysis."
   ]
  },
  {
   "cell_type": "code",
   "execution_count": 3,
   "id": "4cd97dfd",
   "metadata": {},
   "outputs": [
    {
     "data": {
      "text/html": [
       "<div>\n",
       "<style scoped>\n",
       "    .dataframe tbody tr th:only-of-type {\n",
       "        vertical-align: middle;\n",
       "    }\n",
       "\n",
       "    .dataframe tbody tr th {\n",
       "        vertical-align: top;\n",
       "    }\n",
       "\n",
       "    .dataframe thead th {\n",
       "        text-align: right;\n",
       "    }\n",
       "</style>\n",
       "<table border=\"1\" class=\"dataframe\">\n",
       "  <thead>\n",
       "    <tr style=\"text-align: right;\">\n",
       "      <th></th>\n",
       "      <th>DR_NO</th>\n",
       "      <th>Date Rptd</th>\n",
       "      <th>DATE OCC</th>\n",
       "      <th>TIME OCC</th>\n",
       "      <th>AREA</th>\n",
       "      <th>AREA NAME</th>\n",
       "      <th>Rpt Dist No</th>\n",
       "      <th>Part 1-2</th>\n",
       "      <th>Crm Cd</th>\n",
       "      <th>Crm Cd Desc</th>\n",
       "      <th>...</th>\n",
       "      <th>Status</th>\n",
       "      <th>Status Desc</th>\n",
       "      <th>Crm Cd 1</th>\n",
       "      <th>Crm Cd 2</th>\n",
       "      <th>Crm Cd 3</th>\n",
       "      <th>Crm Cd 4</th>\n",
       "      <th>LOCATION</th>\n",
       "      <th>Cross Street</th>\n",
       "      <th>LAT</th>\n",
       "      <th>LON</th>\n",
       "    </tr>\n",
       "  </thead>\n",
       "  <tbody>\n",
       "    <tr>\n",
       "      <th>0</th>\n",
       "      <td>10304468</td>\n",
       "      <td>01/08/2020 12:00:00 AM</td>\n",
       "      <td>01/08/2020 12:00:00 AM</td>\n",
       "      <td>2230</td>\n",
       "      <td>3</td>\n",
       "      <td>Southwest</td>\n",
       "      <td>377</td>\n",
       "      <td>2</td>\n",
       "      <td>624</td>\n",
       "      <td>BATTERY - SIMPLE ASSAULT</td>\n",
       "      <td>...</td>\n",
       "      <td>AO</td>\n",
       "      <td>Adult Other</td>\n",
       "      <td>624.0</td>\n",
       "      <td>NaN</td>\n",
       "      <td>NaN</td>\n",
       "      <td>NaN</td>\n",
       "      <td>1100 W  39TH                         PL</td>\n",
       "      <td>NaN</td>\n",
       "      <td>34.0141</td>\n",
       "      <td>-118.2978</td>\n",
       "    </tr>\n",
       "    <tr>\n",
       "      <th>1</th>\n",
       "      <td>190101086</td>\n",
       "      <td>01/02/2020 12:00:00 AM</td>\n",
       "      <td>01/01/2020 12:00:00 AM</td>\n",
       "      <td>330</td>\n",
       "      <td>1</td>\n",
       "      <td>Central</td>\n",
       "      <td>163</td>\n",
       "      <td>2</td>\n",
       "      <td>624</td>\n",
       "      <td>BATTERY - SIMPLE ASSAULT</td>\n",
       "      <td>...</td>\n",
       "      <td>IC</td>\n",
       "      <td>Invest Cont</td>\n",
       "      <td>624.0</td>\n",
       "      <td>NaN</td>\n",
       "      <td>NaN</td>\n",
       "      <td>NaN</td>\n",
       "      <td>700 S  HILL                         ST</td>\n",
       "      <td>NaN</td>\n",
       "      <td>34.0459</td>\n",
       "      <td>-118.2545</td>\n",
       "    </tr>\n",
       "    <tr>\n",
       "      <th>2</th>\n",
       "      <td>201220752</td>\n",
       "      <td>09/16/2020 12:00:00 AM</td>\n",
       "      <td>09/16/2020 12:00:00 AM</td>\n",
       "      <td>1230</td>\n",
       "      <td>12</td>\n",
       "      <td>77th Street</td>\n",
       "      <td>1259</td>\n",
       "      <td>2</td>\n",
       "      <td>745</td>\n",
       "      <td>VANDALISM - MISDEAMEANOR ($399 OR UNDER)</td>\n",
       "      <td>...</td>\n",
       "      <td>IC</td>\n",
       "      <td>Invest Cont</td>\n",
       "      <td>745.0</td>\n",
       "      <td>NaN</td>\n",
       "      <td>NaN</td>\n",
       "      <td>NaN</td>\n",
       "      <td>700 E  73RD                         ST</td>\n",
       "      <td>NaN</td>\n",
       "      <td>33.9739</td>\n",
       "      <td>-118.2630</td>\n",
       "    </tr>\n",
       "    <tr>\n",
       "      <th>3</th>\n",
       "      <td>191501505</td>\n",
       "      <td>01/01/2020 12:00:00 AM</td>\n",
       "      <td>01/01/2020 12:00:00 AM</td>\n",
       "      <td>1730</td>\n",
       "      <td>15</td>\n",
       "      <td>N Hollywood</td>\n",
       "      <td>1543</td>\n",
       "      <td>2</td>\n",
       "      <td>745</td>\n",
       "      <td>VANDALISM - MISDEAMEANOR ($399 OR UNDER)</td>\n",
       "      <td>...</td>\n",
       "      <td>IC</td>\n",
       "      <td>Invest Cont</td>\n",
       "      <td>745.0</td>\n",
       "      <td>998.0</td>\n",
       "      <td>NaN</td>\n",
       "      <td>NaN</td>\n",
       "      <td>5400    CORTEEN                      PL</td>\n",
       "      <td>NaN</td>\n",
       "      <td>34.1685</td>\n",
       "      <td>-118.4019</td>\n",
       "    </tr>\n",
       "    <tr>\n",
       "      <th>4</th>\n",
       "      <td>191921269</td>\n",
       "      <td>01/01/2020 12:00:00 AM</td>\n",
       "      <td>01/01/2020 12:00:00 AM</td>\n",
       "      <td>415</td>\n",
       "      <td>19</td>\n",
       "      <td>Mission</td>\n",
       "      <td>1998</td>\n",
       "      <td>2</td>\n",
       "      <td>740</td>\n",
       "      <td>VANDALISM - FELONY ($400 &amp; OVER, ALL CHURCH VA...</td>\n",
       "      <td>...</td>\n",
       "      <td>IC</td>\n",
       "      <td>Invest Cont</td>\n",
       "      <td>740.0</td>\n",
       "      <td>NaN</td>\n",
       "      <td>NaN</td>\n",
       "      <td>NaN</td>\n",
       "      <td>14400    TITUS                        ST</td>\n",
       "      <td>NaN</td>\n",
       "      <td>34.2198</td>\n",
       "      <td>-118.4468</td>\n",
       "    </tr>\n",
       "  </tbody>\n",
       "</table>\n",
       "<p>5 rows × 28 columns</p>\n",
       "</div>"
      ],
      "text/plain": [
       "       DR_NO               Date Rptd                DATE OCC  TIME OCC  AREA  \\\n",
       "0   10304468  01/08/2020 12:00:00 AM  01/08/2020 12:00:00 AM      2230     3   \n",
       "1  190101086  01/02/2020 12:00:00 AM  01/01/2020 12:00:00 AM       330     1   \n",
       "2  201220752  09/16/2020 12:00:00 AM  09/16/2020 12:00:00 AM      1230    12   \n",
       "3  191501505  01/01/2020 12:00:00 AM  01/01/2020 12:00:00 AM      1730    15   \n",
       "4  191921269  01/01/2020 12:00:00 AM  01/01/2020 12:00:00 AM       415    19   \n",
       "\n",
       "     AREA NAME  Rpt Dist No  Part 1-2  Crm Cd  \\\n",
       "0    Southwest          377         2     624   \n",
       "1      Central          163         2     624   \n",
       "2  77th Street         1259         2     745   \n",
       "3  N Hollywood         1543         2     745   \n",
       "4      Mission         1998         2     740   \n",
       "\n",
       "                                         Crm Cd Desc  ... Status  Status Desc  \\\n",
       "0                           BATTERY - SIMPLE ASSAULT  ...     AO  Adult Other   \n",
       "1                           BATTERY - SIMPLE ASSAULT  ...     IC  Invest Cont   \n",
       "2           VANDALISM - MISDEAMEANOR ($399 OR UNDER)  ...     IC  Invest Cont   \n",
       "3           VANDALISM - MISDEAMEANOR ($399 OR UNDER)  ...     IC  Invest Cont   \n",
       "4  VANDALISM - FELONY ($400 & OVER, ALL CHURCH VA...  ...     IC  Invest Cont   \n",
       "\n",
       "  Crm Cd 1 Crm Cd 2  Crm Cd 3 Crm Cd 4  \\\n",
       "0    624.0      NaN       NaN      NaN   \n",
       "1    624.0      NaN       NaN      NaN   \n",
       "2    745.0      NaN       NaN      NaN   \n",
       "3    745.0    998.0       NaN      NaN   \n",
       "4    740.0      NaN       NaN      NaN   \n",
       "\n",
       "                                   LOCATION Cross Street      LAT       LON  \n",
       "0   1100 W  39TH                         PL          NaN  34.0141 -118.2978  \n",
       "1    700 S  HILL                         ST          NaN  34.0459 -118.2545  \n",
       "2    700 E  73RD                         ST          NaN  33.9739 -118.2630  \n",
       "3   5400    CORTEEN                      PL          NaN  34.1685 -118.4019  \n",
       "4  14400    TITUS                        ST          NaN  34.2198 -118.4468  \n",
       "\n",
       "[5 rows x 28 columns]"
      ]
     },
     "execution_count": 3,
     "metadata": {},
     "output_type": "execute_result"
    }
   ],
   "source": [
    "#Load data\n",
    "df = pd.read_csv('Crime_Data_from_2020_to_Present.csv')\n",
    "df.head()"
   ]
  },
  {
   "cell_type": "markdown",
   "id": "20bffd49",
   "metadata": {},
   "source": [
    "This is the head of our dataset that visualize the first 5 rows and the 28 columns of our dataset. "
   ]
  },
  {
   "cell_type": "markdown",
   "id": "6a010549",
   "metadata": {},
   "source": [
    "# Columns in Dataset"
   ]
  },
  {
   "cell_type": "code",
   "execution_count": 4,
   "id": "f8bbb501",
   "metadata": {},
   "outputs": [
    {
     "data": {
      "text/plain": [
       "Index(['DR_NO', 'Date Rptd', 'DATE OCC', 'TIME OCC', 'AREA', 'AREA NAME',\n",
       "       'Rpt Dist No', 'Part 1-2', 'Crm Cd', 'Crm Cd Desc', 'Mocodes',\n",
       "       'Vict Age', 'Vict Sex', 'Vict Descent', 'Premis Cd', 'Premis Desc',\n",
       "       'Weapon Used Cd', 'Weapon Desc', 'Status', 'Status Desc', 'Crm Cd 1',\n",
       "       'Crm Cd 2', 'Crm Cd 3', 'Crm Cd 4', 'LOCATION', 'Cross Street', 'LAT',\n",
       "       'LON'],\n",
       "      dtype='object')"
      ]
     },
     "execution_count": 4,
     "metadata": {},
     "output_type": "execute_result"
    }
   ],
   "source": [
    "df.columns"
   ]
  },
  {
   "cell_type": "markdown",
   "id": "518a0061",
   "metadata": {},
   "source": [
    "This is the columns of our dataset and this help us to see the names of columns of our dataset."
   ]
  },
  {
   "cell_type": "markdown",
   "id": "7536868b",
   "metadata": {},
   "source": [
    "### Data Preprocessing"
   ]
  },
  {
   "cell_type": "code",
   "execution_count": 5,
   "id": "5a23f3b9",
   "metadata": {},
   "outputs": [],
   "source": [
    "#checking for data info "
   ]
  },
  {
   "cell_type": "code",
   "execution_count": 6,
   "id": "08c43e3f",
   "metadata": {},
   "outputs": [
    {
     "name": "stdout",
     "output_type": "stream",
     "text": [
      "<class 'pandas.core.frame.DataFrame'>\n",
      "RangeIndex: 276584 entries, 0 to 276583\n",
      "Data columns (total 28 columns):\n",
      " #   Column          Non-Null Count   Dtype  \n",
      "---  ------          --------------   -----  \n",
      " 0   DR_NO           276584 non-null  int64  \n",
      " 1   Date Rptd       276584 non-null  object \n",
      " 2   DATE OCC        276584 non-null  object \n",
      " 3   TIME OCC        276584 non-null  int64  \n",
      " 4   AREA            276584 non-null  int64  \n",
      " 5   AREA NAME       276584 non-null  object \n",
      " 6   Rpt Dist No     276584 non-null  int64  \n",
      " 7   Part 1-2        276584 non-null  int64  \n",
      " 8   Crm Cd          276584 non-null  int64  \n",
      " 9   Crm Cd Desc     276584 non-null  object \n",
      " 10  Mocodes         238591 non-null  object \n",
      " 11  Vict Age        276584 non-null  int64  \n",
      " 12  Vict Sex        240227 non-null  object \n",
      " 13  Vict Descent    240222 non-null  object \n",
      " 14  Premis Cd       276580 non-null  float64\n",
      " 15  Premis Desc     276487 non-null  object \n",
      " 16  Weapon Used Cd  101085 non-null  float64\n",
      " 17  Weapon Desc     101085 non-null  object \n",
      " 18  Status          276584 non-null  object \n",
      " 19  Status Desc     276584 non-null  object \n",
      " 20  Crm Cd 1        276582 non-null  float64\n",
      " 21  Crm Cd 2        22741 non-null   float64\n",
      " 22  Crm Cd 3        776 non-null     float64\n",
      " 23  Crm Cd 4        25 non-null      float64\n",
      " 24  LOCATION        276584 non-null  object \n",
      " 25  Cross Street    49813 non-null   object \n",
      " 26  LAT             276584 non-null  float64\n",
      " 27  LON             276584 non-null  float64\n",
      "dtypes: float64(8), int64(7), object(13)\n",
      "memory usage: 59.1+ MB\n"
     ]
    }
   ],
   "source": [
    "df.info()"
   ]
  },
  {
   "cell_type": "markdown",
   "id": "462d70be",
   "metadata": {},
   "source": [
    "We use df.info in order for us to know the number of object, d types and the non null values inside of our dataset."
   ]
  },
  {
   "cell_type": "code",
   "execution_count": 7,
   "id": "eb2b36dd",
   "metadata": {},
   "outputs": [],
   "source": [
    "# Removing irrelevant/not meaningfull columns"
   ]
  },
  {
   "cell_type": "code",
   "execution_count": 8,
   "id": "27d3e325",
   "metadata": {},
   "outputs": [],
   "source": [
    "# from discrption of columns data there are some columns don't needed so we drop them\n",
    "col = ['Date Rptd','DR_NO','AREA NAME', 'Mocodes', 'Premis Desc', 'Weapon Desc', 'Status Desc','Crm Cd 1',\n",
    "       'Crm Cd 2', 'Crm Cd 3', 'Crm Cd 4', 'Cross Street','Weapon Used Cd']\n",
    "df = df.drop(col,axis=1)"
   ]
  },
  {
   "cell_type": "code",
   "execution_count": null,
   "id": "f0736fe4",
   "metadata": {},
   "outputs": [],
   "source": [
    "# Handeling null values "
   ]
  },
  {
   "cell_type": "code",
   "execution_count": 9,
   "id": "ddbde1ca",
   "metadata": {},
   "outputs": [
    {
     "data": {
      "text/plain": [
       "DATE OCC        0.000000\n",
       "TIME OCC        0.000000\n",
       "AREA            0.000000\n",
       "Rpt Dist No     0.000000\n",
       "Part 1-2        0.000000\n",
       "Crm Cd          0.000000\n",
       "Crm Cd Desc     0.000000\n",
       "Vict Age        0.000000\n",
       "Vict Sex        0.131450\n",
       "Vict Descent    0.131468\n",
       "Premis Cd       0.000014\n",
       "Status          0.000000\n",
       "LOCATION        0.000000\n",
       "LAT             0.000000\n",
       "LON             0.000000\n",
       "dtype: float64"
      ]
     },
     "execution_count": 9,
     "metadata": {},
     "output_type": "execute_result"
    }
   ],
   "source": [
    "df.isna().sum()/df.shape[0]"
   ]
  },
  {
   "cell_type": "code",
   "execution_count": 10,
   "id": "afcb6011",
   "metadata": {},
   "outputs": [],
   "source": [
    "# filling victim sex empty rows with mode value\n",
    "df[\"Vict Sex\"].fillna(df[\"Vict Sex\"].mode()[0],inplace=True)\n",
    "\n",
    "# filling victim descent empty rows with \"X\" unknown symbol \n",
    "df[\"Vict Descent\"].fillna(df[\"Vict Descent\"].mode()[0],inplace=True)"
   ]
  },
  {
   "cell_type": "code",
   "execution_count": 11,
   "id": "1b3c2fcb",
   "metadata": {},
   "outputs": [],
   "source": [
    "# Converting the date column to datetime\n",
    "df['DATE OCC'] = pd.to_datetime(df['DATE OCC'], format='%m/%d/%Y %I:%M:%S %p')"
   ]
  },
  {
   "cell_type": "code",
   "execution_count": 12,
   "id": "a450c641",
   "metadata": {},
   "outputs": [],
   "source": [
    "# Extracting year, month, day into separate columns - This would be useful for machine learning model\n",
    "df['year'] = df['DATE OCC'].dt.year\n",
    "df['month'] = df['DATE OCC'].dt.month\n",
    "df['day'] = df['DATE OCC'].dt.day\n",
    "df['day_of_week'] = df['DATE OCC'].dt.day_name()"
   ]
  },
  {
   "cell_type": "code",
   "execution_count": 13,
   "id": "a27c02f9",
   "metadata": {},
   "outputs": [],
   "source": [
    "# Converting time to string\n",
    "df['TIME OCC'] = df['TIME OCC'].astype('str')\n",
    "\n",
    "# converting the column with 4 digits\n",
    "df['TIME OCC'] = df['TIME OCC'].apply(lambda x: x.zfill(4))\n",
    "\n",
    "# extracting hour and minute\n",
    "df['hour'] = df['TIME OCC'].str[:2]\n",
    "df['minute'] = df['TIME OCC'].str[2:]"
   ]
  },
  {
   "cell_type": "code",
   "execution_count": 14,
   "id": "3e9c963f",
   "metadata": {},
   "outputs": [
    {
     "data": {
      "text/html": [
       "<div>\n",
       "<style scoped>\n",
       "    .dataframe tbody tr th:only-of-type {\n",
       "        vertical-align: middle;\n",
       "    }\n",
       "\n",
       "    .dataframe tbody tr th {\n",
       "        vertical-align: top;\n",
       "    }\n",
       "\n",
       "    .dataframe thead th {\n",
       "        text-align: right;\n",
       "    }\n",
       "</style>\n",
       "<table border=\"1\" class=\"dataframe\">\n",
       "  <thead>\n",
       "    <tr style=\"text-align: right;\">\n",
       "      <th></th>\n",
       "      <th>DATE OCC</th>\n",
       "      <th>TIME OCC</th>\n",
       "      <th>AREA</th>\n",
       "      <th>Rpt Dist No</th>\n",
       "      <th>Part 1-2</th>\n",
       "      <th>Crm Cd</th>\n",
       "      <th>Crm Cd Desc</th>\n",
       "      <th>Vict Age</th>\n",
       "      <th>Vict Sex</th>\n",
       "      <th>Vict Descent</th>\n",
       "      <th>...</th>\n",
       "      <th>Status</th>\n",
       "      <th>LOCATION</th>\n",
       "      <th>LAT</th>\n",
       "      <th>LON</th>\n",
       "      <th>year</th>\n",
       "      <th>month</th>\n",
       "      <th>day</th>\n",
       "      <th>day_of_week</th>\n",
       "      <th>hour</th>\n",
       "      <th>minute</th>\n",
       "    </tr>\n",
       "  </thead>\n",
       "  <tbody>\n",
       "    <tr>\n",
       "      <th>0</th>\n",
       "      <td>2020-01-08</td>\n",
       "      <td>2230</td>\n",
       "      <td>3</td>\n",
       "      <td>377</td>\n",
       "      <td>2</td>\n",
       "      <td>624</td>\n",
       "      <td>BATTERY - SIMPLE ASSAULT</td>\n",
       "      <td>36</td>\n",
       "      <td>F</td>\n",
       "      <td>B</td>\n",
       "      <td>...</td>\n",
       "      <td>AO</td>\n",
       "      <td>1100 W  39TH                         PL</td>\n",
       "      <td>34.0141</td>\n",
       "      <td>-118.2978</td>\n",
       "      <td>2020</td>\n",
       "      <td>1</td>\n",
       "      <td>8</td>\n",
       "      <td>Wednesday</td>\n",
       "      <td>22</td>\n",
       "      <td>30</td>\n",
       "    </tr>\n",
       "    <tr>\n",
       "      <th>1</th>\n",
       "      <td>2020-01-01</td>\n",
       "      <td>0330</td>\n",
       "      <td>1</td>\n",
       "      <td>163</td>\n",
       "      <td>2</td>\n",
       "      <td>624</td>\n",
       "      <td>BATTERY - SIMPLE ASSAULT</td>\n",
       "      <td>25</td>\n",
       "      <td>M</td>\n",
       "      <td>H</td>\n",
       "      <td>...</td>\n",
       "      <td>IC</td>\n",
       "      <td>700 S  HILL                         ST</td>\n",
       "      <td>34.0459</td>\n",
       "      <td>-118.2545</td>\n",
       "      <td>2020</td>\n",
       "      <td>1</td>\n",
       "      <td>1</td>\n",
       "      <td>Wednesday</td>\n",
       "      <td>03</td>\n",
       "      <td>30</td>\n",
       "    </tr>\n",
       "    <tr>\n",
       "      <th>2</th>\n",
       "      <td>2020-09-16</td>\n",
       "      <td>1230</td>\n",
       "      <td>12</td>\n",
       "      <td>1259</td>\n",
       "      <td>2</td>\n",
       "      <td>745</td>\n",
       "      <td>VANDALISM - MISDEAMEANOR ($399 OR UNDER)</td>\n",
       "      <td>62</td>\n",
       "      <td>M</td>\n",
       "      <td>B</td>\n",
       "      <td>...</td>\n",
       "      <td>IC</td>\n",
       "      <td>700 E  73RD                         ST</td>\n",
       "      <td>33.9739</td>\n",
       "      <td>-118.2630</td>\n",
       "      <td>2020</td>\n",
       "      <td>9</td>\n",
       "      <td>16</td>\n",
       "      <td>Wednesday</td>\n",
       "      <td>12</td>\n",
       "      <td>30</td>\n",
       "    </tr>\n",
       "    <tr>\n",
       "      <th>3</th>\n",
       "      <td>2020-01-01</td>\n",
       "      <td>1730</td>\n",
       "      <td>15</td>\n",
       "      <td>1543</td>\n",
       "      <td>2</td>\n",
       "      <td>745</td>\n",
       "      <td>VANDALISM - MISDEAMEANOR ($399 OR UNDER)</td>\n",
       "      <td>76</td>\n",
       "      <td>F</td>\n",
       "      <td>W</td>\n",
       "      <td>...</td>\n",
       "      <td>IC</td>\n",
       "      <td>5400    CORTEEN                      PL</td>\n",
       "      <td>34.1685</td>\n",
       "      <td>-118.4019</td>\n",
       "      <td>2020</td>\n",
       "      <td>1</td>\n",
       "      <td>1</td>\n",
       "      <td>Wednesday</td>\n",
       "      <td>17</td>\n",
       "      <td>30</td>\n",
       "    </tr>\n",
       "    <tr>\n",
       "      <th>4</th>\n",
       "      <td>2020-01-01</td>\n",
       "      <td>0415</td>\n",
       "      <td>19</td>\n",
       "      <td>1998</td>\n",
       "      <td>2</td>\n",
       "      <td>740</td>\n",
       "      <td>VANDALISM - FELONY ($400 &amp; OVER, ALL CHURCH VA...</td>\n",
       "      <td>31</td>\n",
       "      <td>X</td>\n",
       "      <td>X</td>\n",
       "      <td>...</td>\n",
       "      <td>IC</td>\n",
       "      <td>14400    TITUS                        ST</td>\n",
       "      <td>34.2198</td>\n",
       "      <td>-118.4468</td>\n",
       "      <td>2020</td>\n",
       "      <td>1</td>\n",
       "      <td>1</td>\n",
       "      <td>Wednesday</td>\n",
       "      <td>04</td>\n",
       "      <td>15</td>\n",
       "    </tr>\n",
       "  </tbody>\n",
       "</table>\n",
       "<p>5 rows × 21 columns</p>\n",
       "</div>"
      ],
      "text/plain": [
       "    DATE OCC TIME OCC  AREA  Rpt Dist No  Part 1-2  Crm Cd  \\\n",
       "0 2020-01-08     2230     3          377         2     624   \n",
       "1 2020-01-01     0330     1          163         2     624   \n",
       "2 2020-09-16     1230    12         1259         2     745   \n",
       "3 2020-01-01     1730    15         1543         2     745   \n",
       "4 2020-01-01     0415    19         1998         2     740   \n",
       "\n",
       "                                         Crm Cd Desc  Vict Age Vict Sex  \\\n",
       "0                           BATTERY - SIMPLE ASSAULT        36        F   \n",
       "1                           BATTERY - SIMPLE ASSAULT        25        M   \n",
       "2           VANDALISM - MISDEAMEANOR ($399 OR UNDER)        62        M   \n",
       "3           VANDALISM - MISDEAMEANOR ($399 OR UNDER)        76        F   \n",
       "4  VANDALISM - FELONY ($400 & OVER, ALL CHURCH VA...        31        X   \n",
       "\n",
       "  Vict Descent  ...  Status                                  LOCATION  \\\n",
       "0            B  ...      AO   1100 W  39TH                         PL   \n",
       "1            H  ...      IC    700 S  HILL                         ST   \n",
       "2            B  ...      IC    700 E  73RD                         ST   \n",
       "3            W  ...      IC   5400    CORTEEN                      PL   \n",
       "4            X  ...      IC  14400    TITUS                        ST   \n",
       "\n",
       "       LAT       LON  year  month  day  day_of_week hour minute  \n",
       "0  34.0141 -118.2978  2020      1    8    Wednesday   22     30  \n",
       "1  34.0459 -118.2545  2020      1    1    Wednesday   03     30  \n",
       "2  33.9739 -118.2630  2020      9   16    Wednesday   12     30  \n",
       "3  34.1685 -118.4019  2020      1    1    Wednesday   17     30  \n",
       "4  34.2198 -118.4468  2020      1    1    Wednesday   04     15  \n",
       "\n",
       "[5 rows x 21 columns]"
      ]
     },
     "execution_count": 14,
     "metadata": {},
     "output_type": "execute_result"
    }
   ],
   "source": [
    "df.head()"
   ]
  },
  {
   "cell_type": "markdown",
   "id": "99e1dc6f",
   "metadata": {},
   "source": [
    "This is the head our that has already the converted columns which is the date and time. "
   ]
  },
  {
   "cell_type": "code",
   "execution_count": 15,
   "id": "5d3b398c",
   "metadata": {},
   "outputs": [],
   "source": [
    "# Adding a col with Voilent and non voilent crime "
   ]
  },
  {
   "cell_type": "code",
   "execution_count": 16,
   "id": "edd487ad",
   "metadata": {},
   "outputs": [],
   "source": [
    "import re\n",
    "\n",
    "# Regular expressions for violent and non-violent crimes\n",
    "violent_patterns = [\n",
    "    r'\\bRAPE\\b', r'\\bASSAULT\\b', r'\\bROBBERY\\b', r'\\bMURDER\\b', r'\\bBATTERY\\b', r'\\bKIDNAPPING\\b', r'\\bARSON\\b', r'\\bMANSLAUGHTER\\b',\n",
    "    r'\\bDEADLY WEAPON\\b', r'\\bORAL COPULATION\\b', r'\\bSEXUAL PENETRATION\\b', r'\\bSTALKING\\b', r'\\bLEWD CONDUCT\\b', r'\\bCHILD ABUSE\\b'\n",
    "]\n",
    "\n",
    "non_violent_patterns = [\n",
    "    r'\\bTHEFT\\b', r'\\bFRAUD\\b', r'\\bBURGLARY\\b', r'\\bVANDALISM\\b', r'\\bTRESPASSING\\b', r'\\bEMBEZZLEMENT\\b', r'\\bFORGERY\\b', r'\\bDISORDERLY CONDUCT\\b',\n",
    "    r'\\bDISRUPTING PEACE\\b', r'\\bCRIMINAL DAMAGE\\b', r'\\bSTOLEN PROPERTY\\b', r'\\bIDENTITY THEFT\\b', r'\\bCREDIT CARD FRAUD\\b', r'\\bBUNCO\\b',\n",
    "    r'\\bPROPERTY DAMAGE\\b', r'\\bCONSPIRACY\\b', r'\\bDOCUMENT FORGERY\\b', r'\\bEXTORTION\\b', r'\\bBRIBERY\\b', r'\\bCONTRIBUTING TO DELINQUENCY\\b',\n",
    "    r'\\bANIMAL CRUELTY\\b', r'\\bILLEGAL DUMPING\\b', r'\\bHUMAN TRAFFICKING\\b', r'\\bINCEST\\b'\n",
    "]"
   ]
  },
  {
   "cell_type": "code",
   "execution_count": 17,
   "id": "5b5fa52f",
   "metadata": {},
   "outputs": [],
   "source": [
    "df[\"Crm Cd Desc\"] = df[\"Crm Cd Desc\"].astype(str)  # Converting the column to string\n",
    "\n",
    "# The following function classifies crimes as violent or non-violent using regular expressions\n",
    "def classify_crime(description):\n",
    "    for pattern in violent_patterns:\n",
    "        if re.search(pattern, description, re.IGNORECASE):\n",
    "            return 'violent'\n",
    "    for pattern in non_violent_patterns:\n",
    "        if re.search(pattern, description, re.IGNORECASE):\n",
    "            return 'non-violent'\n",
    "    return 'unknown'\n",
    "\n",
    "# Classify the crimes\n",
    "df[\"Crime\"] = df[\"Crm Cd Desc\"].apply(classify_crime)"
   ]
  },
  {
   "cell_type": "code",
   "execution_count": 18,
   "id": "92fa69c1",
   "metadata": {},
   "outputs": [
    {
     "data": {
      "text/plain": [
       "Crime\n",
       "non-violent    135573\n",
       "violent         78231\n",
       "unknown         62780\n",
       "Name: count, dtype: int64"
      ]
     },
     "execution_count": 18,
     "metadata": {},
     "output_type": "execute_result"
    }
   ],
   "source": [
    "df[\"Crime\"].value_counts()"
   ]
  },
  {
   "cell_type": "markdown",
   "id": "38071db5",
   "metadata": {},
   "source": [
    "We used this to see the numbers of non-violent, violent, unknown crime. "
   ]
  },
  {
   "cell_type": "code",
   "execution_count": 19,
   "id": "d1b4a241",
   "metadata": {},
   "outputs": [],
   "source": [
    "# Droping rows with 'unknown' classification\n",
    "df = df[df[\"Crime\"] != 'unknown']"
   ]
  },
  {
   "cell_type": "code",
   "execution_count": 20,
   "id": "1433c767",
   "metadata": {},
   "outputs": [],
   "source": [
    "df['AREA'] = df['AREA'].astype('category')\n",
    "df['Rpt Dist No'] = df['Rpt Dist No'].astype('category')\n",
    "df['Premis Cd'] = df['Premis Cd'].astype('category')\n",
    "df['hour'] = df['hour'].astype('category')\n",
    "df['minute'] = df['minute'].astype('category')\n",
    "df['day'] = df['day'].astype('category')\n",
    "df['month'] = df['month'].astype('category')\n",
    "df['Status'] = df['Status'].astype('category')\n",
    "df['Part 1-2'] = df['Part 1-2'].astype('category')"
   ]
  },
  {
   "cell_type": "code",
   "execution_count": 21,
   "id": "02b8cdd0",
   "metadata": {},
   "outputs": [],
   "source": [
    "# Extract block number from location so we can add this to our model\n",
    "\n",
    "import re\n",
    "\n",
    "# regular expression patterns\n",
    "pattern_block_number = r'^\\d+'\n",
    "\n",
    "df['block'] = df['LOCATION'].apply(lambda x: re.findall(pattern_block_number, x)[0] if re.findall(pattern_block_number, x) else '')\n",
    "\n",
    "# replacing empty strings with NaN\n",
    "df['block'] = df['block'].replace('', pd.NA)\n",
    "\n",
    "# fill missing values with mode\n",
    "df['block'] = df['block'].fillna(df['block'].mode().iloc[0])"
   ]
  },
  {
   "cell_type": "code",
   "execution_count": 22,
   "id": "88355e49",
   "metadata": {},
   "outputs": [
    {
     "data": {
      "text/html": [
       "<div>\n",
       "<style scoped>\n",
       "    .dataframe tbody tr th:only-of-type {\n",
       "        vertical-align: middle;\n",
       "    }\n",
       "\n",
       "    .dataframe tbody tr th {\n",
       "        vertical-align: top;\n",
       "    }\n",
       "\n",
       "    .dataframe thead th {\n",
       "        text-align: right;\n",
       "    }\n",
       "</style>\n",
       "<table border=\"1\" class=\"dataframe\">\n",
       "  <thead>\n",
       "    <tr style=\"text-align: right;\">\n",
       "      <th></th>\n",
       "      <th>DATE OCC</th>\n",
       "      <th>TIME OCC</th>\n",
       "      <th>AREA</th>\n",
       "      <th>Rpt Dist No</th>\n",
       "      <th>Part 1-2</th>\n",
       "      <th>Crm Cd</th>\n",
       "      <th>Crm Cd Desc</th>\n",
       "      <th>Vict Age</th>\n",
       "      <th>Vict Sex</th>\n",
       "      <th>Vict Descent</th>\n",
       "      <th>...</th>\n",
       "      <th>LAT</th>\n",
       "      <th>LON</th>\n",
       "      <th>year</th>\n",
       "      <th>month</th>\n",
       "      <th>day</th>\n",
       "      <th>day_of_week</th>\n",
       "      <th>hour</th>\n",
       "      <th>minute</th>\n",
       "      <th>Crime</th>\n",
       "      <th>block</th>\n",
       "    </tr>\n",
       "  </thead>\n",
       "  <tbody>\n",
       "    <tr>\n",
       "      <th>0</th>\n",
       "      <td>2020-01-08</td>\n",
       "      <td>2230</td>\n",
       "      <td>3</td>\n",
       "      <td>377</td>\n",
       "      <td>2</td>\n",
       "      <td>624</td>\n",
       "      <td>BATTERY - SIMPLE ASSAULT</td>\n",
       "      <td>36</td>\n",
       "      <td>F</td>\n",
       "      <td>B</td>\n",
       "      <td>...</td>\n",
       "      <td>34.0141</td>\n",
       "      <td>-118.2978</td>\n",
       "      <td>2020</td>\n",
       "      <td>1</td>\n",
       "      <td>8</td>\n",
       "      <td>Wednesday</td>\n",
       "      <td>22</td>\n",
       "      <td>30</td>\n",
       "      <td>violent</td>\n",
       "      <td>1100</td>\n",
       "    </tr>\n",
       "    <tr>\n",
       "      <th>1</th>\n",
       "      <td>2020-01-01</td>\n",
       "      <td>0330</td>\n",
       "      <td>1</td>\n",
       "      <td>163</td>\n",
       "      <td>2</td>\n",
       "      <td>624</td>\n",
       "      <td>BATTERY - SIMPLE ASSAULT</td>\n",
       "      <td>25</td>\n",
       "      <td>M</td>\n",
       "      <td>H</td>\n",
       "      <td>...</td>\n",
       "      <td>34.0459</td>\n",
       "      <td>-118.2545</td>\n",
       "      <td>2020</td>\n",
       "      <td>1</td>\n",
       "      <td>1</td>\n",
       "      <td>Wednesday</td>\n",
       "      <td>03</td>\n",
       "      <td>30</td>\n",
       "      <td>violent</td>\n",
       "      <td>700</td>\n",
       "    </tr>\n",
       "    <tr>\n",
       "      <th>2</th>\n",
       "      <td>2020-09-16</td>\n",
       "      <td>1230</td>\n",
       "      <td>12</td>\n",
       "      <td>1259</td>\n",
       "      <td>2</td>\n",
       "      <td>745</td>\n",
       "      <td>VANDALISM - MISDEAMEANOR ($399 OR UNDER)</td>\n",
       "      <td>62</td>\n",
       "      <td>M</td>\n",
       "      <td>B</td>\n",
       "      <td>...</td>\n",
       "      <td>33.9739</td>\n",
       "      <td>-118.2630</td>\n",
       "      <td>2020</td>\n",
       "      <td>9</td>\n",
       "      <td>16</td>\n",
       "      <td>Wednesday</td>\n",
       "      <td>12</td>\n",
       "      <td>30</td>\n",
       "      <td>non-violent</td>\n",
       "      <td>700</td>\n",
       "    </tr>\n",
       "    <tr>\n",
       "      <th>3</th>\n",
       "      <td>2020-01-01</td>\n",
       "      <td>1730</td>\n",
       "      <td>15</td>\n",
       "      <td>1543</td>\n",
       "      <td>2</td>\n",
       "      <td>745</td>\n",
       "      <td>VANDALISM - MISDEAMEANOR ($399 OR UNDER)</td>\n",
       "      <td>76</td>\n",
       "      <td>F</td>\n",
       "      <td>W</td>\n",
       "      <td>...</td>\n",
       "      <td>34.1685</td>\n",
       "      <td>-118.4019</td>\n",
       "      <td>2020</td>\n",
       "      <td>1</td>\n",
       "      <td>1</td>\n",
       "      <td>Wednesday</td>\n",
       "      <td>17</td>\n",
       "      <td>30</td>\n",
       "      <td>non-violent</td>\n",
       "      <td>5400</td>\n",
       "    </tr>\n",
       "    <tr>\n",
       "      <th>4</th>\n",
       "      <td>2020-01-01</td>\n",
       "      <td>0415</td>\n",
       "      <td>19</td>\n",
       "      <td>1998</td>\n",
       "      <td>2</td>\n",
       "      <td>740</td>\n",
       "      <td>VANDALISM - FELONY ($400 &amp; OVER, ALL CHURCH VA...</td>\n",
       "      <td>31</td>\n",
       "      <td>X</td>\n",
       "      <td>X</td>\n",
       "      <td>...</td>\n",
       "      <td>34.2198</td>\n",
       "      <td>-118.4468</td>\n",
       "      <td>2020</td>\n",
       "      <td>1</td>\n",
       "      <td>1</td>\n",
       "      <td>Wednesday</td>\n",
       "      <td>04</td>\n",
       "      <td>15</td>\n",
       "      <td>non-violent</td>\n",
       "      <td>14400</td>\n",
       "    </tr>\n",
       "  </tbody>\n",
       "</table>\n",
       "<p>5 rows × 23 columns</p>\n",
       "</div>"
      ],
      "text/plain": [
       "    DATE OCC TIME OCC AREA Rpt Dist No Part 1-2  Crm Cd  \\\n",
       "0 2020-01-08     2230    3         377        2     624   \n",
       "1 2020-01-01     0330    1         163        2     624   \n",
       "2 2020-09-16     1230   12        1259        2     745   \n",
       "3 2020-01-01     1730   15        1543        2     745   \n",
       "4 2020-01-01     0415   19        1998        2     740   \n",
       "\n",
       "                                         Crm Cd Desc  Vict Age Vict Sex  \\\n",
       "0                           BATTERY - SIMPLE ASSAULT        36        F   \n",
       "1                           BATTERY - SIMPLE ASSAULT        25        M   \n",
       "2           VANDALISM - MISDEAMEANOR ($399 OR UNDER)        62        M   \n",
       "3           VANDALISM - MISDEAMEANOR ($399 OR UNDER)        76        F   \n",
       "4  VANDALISM - FELONY ($400 & OVER, ALL CHURCH VA...        31        X   \n",
       "\n",
       "  Vict Descent  ...      LAT       LON  year  month  day  day_of_week hour  \\\n",
       "0            B  ...  34.0141 -118.2978  2020      1    8    Wednesday   22   \n",
       "1            H  ...  34.0459 -118.2545  2020      1    1    Wednesday   03   \n",
       "2            B  ...  33.9739 -118.2630  2020      9   16    Wednesday   12   \n",
       "3            W  ...  34.1685 -118.4019  2020      1    1    Wednesday   17   \n",
       "4            X  ...  34.2198 -118.4468  2020      1    1    Wednesday   04   \n",
       "\n",
       "  minute        Crime  block  \n",
       "0     30      violent   1100  \n",
       "1     30      violent    700  \n",
       "2     30  non-violent    700  \n",
       "3     30  non-violent   5400  \n",
       "4     15  non-violent  14400  \n",
       "\n",
       "[5 rows x 23 columns]"
      ]
     },
     "execution_count": 22,
     "metadata": {},
     "output_type": "execute_result"
    }
   ],
   "source": [
    "df.head()"
   ]
  },
  {
   "cell_type": "code",
   "execution_count": 23,
   "id": "222e222f",
   "metadata": {},
   "outputs": [],
   "source": [
    "# Selecting features for model"
   ]
  },
  {
   "cell_type": "code",
   "execution_count": 24,
   "id": "451a8d24",
   "metadata": {},
   "outputs": [
    {
     "data": {
      "text/html": [
       "<div>\n",
       "<style scoped>\n",
       "    .dataframe tbody tr th:only-of-type {\n",
       "        vertical-align: middle;\n",
       "    }\n",
       "\n",
       "    .dataframe tbody tr th {\n",
       "        vertical-align: top;\n",
       "    }\n",
       "\n",
       "    .dataframe thead th {\n",
       "        text-align: right;\n",
       "    }\n",
       "</style>\n",
       "<table border=\"1\" class=\"dataframe\">\n",
       "  <thead>\n",
       "    <tr style=\"text-align: right;\">\n",
       "      <th></th>\n",
       "      <th>AREA</th>\n",
       "      <th>block</th>\n",
       "      <th>Premis Cd</th>\n",
       "      <th>LAT</th>\n",
       "      <th>LON</th>\n",
       "      <th>hour</th>\n",
       "      <th>day_of_week</th>\n",
       "      <th>Crime</th>\n",
       "    </tr>\n",
       "  </thead>\n",
       "  <tbody>\n",
       "    <tr>\n",
       "      <th>0</th>\n",
       "      <td>3</td>\n",
       "      <td>1100</td>\n",
       "      <td>501.0</td>\n",
       "      <td>34.0141</td>\n",
       "      <td>-118.2978</td>\n",
       "      <td>22</td>\n",
       "      <td>Wednesday</td>\n",
       "      <td>violent</td>\n",
       "    </tr>\n",
       "    <tr>\n",
       "      <th>1</th>\n",
       "      <td>1</td>\n",
       "      <td>700</td>\n",
       "      <td>102.0</td>\n",
       "      <td>34.0459</td>\n",
       "      <td>-118.2545</td>\n",
       "      <td>03</td>\n",
       "      <td>Wednesday</td>\n",
       "      <td>violent</td>\n",
       "    </tr>\n",
       "    <tr>\n",
       "      <th>2</th>\n",
       "      <td>12</td>\n",
       "      <td>700</td>\n",
       "      <td>502.0</td>\n",
       "      <td>33.9739</td>\n",
       "      <td>-118.2630</td>\n",
       "      <td>12</td>\n",
       "      <td>Wednesday</td>\n",
       "      <td>non-violent</td>\n",
       "    </tr>\n",
       "    <tr>\n",
       "      <th>3</th>\n",
       "      <td>15</td>\n",
       "      <td>5400</td>\n",
       "      <td>502.0</td>\n",
       "      <td>34.1685</td>\n",
       "      <td>-118.4019</td>\n",
       "      <td>17</td>\n",
       "      <td>Wednesday</td>\n",
       "      <td>non-violent</td>\n",
       "    </tr>\n",
       "    <tr>\n",
       "      <th>4</th>\n",
       "      <td>19</td>\n",
       "      <td>14400</td>\n",
       "      <td>409.0</td>\n",
       "      <td>34.2198</td>\n",
       "      <td>-118.4468</td>\n",
       "      <td>04</td>\n",
       "      <td>Wednesday</td>\n",
       "      <td>non-violent</td>\n",
       "    </tr>\n",
       "  </tbody>\n",
       "</table>\n",
       "</div>"
      ],
      "text/plain": [
       "  AREA  block Premis Cd      LAT       LON hour day_of_week        Crime\n",
       "0    3   1100     501.0  34.0141 -118.2978   22   Wednesday      violent\n",
       "1    1    700     102.0  34.0459 -118.2545   03   Wednesday      violent\n",
       "2   12    700     502.0  33.9739 -118.2630   12   Wednesday  non-violent\n",
       "3   15   5400     502.0  34.1685 -118.4019   17   Wednesday  non-violent\n",
       "4   19  14400     409.0  34.2198 -118.4468   04   Wednesday  non-violent"
      ]
     },
     "execution_count": 24,
     "metadata": {},
     "output_type": "execute_result"
    }
   ],
   "source": [
    "features = ['AREA','block','Premis Cd','LAT','LON','hour','day_of_week','Crime']\n",
    "\n",
    "df = df[features]\n",
    "df.head()"
   ]
  },
  {
   "cell_type": "code",
   "execution_count": null,
   "id": "48d9e35b",
   "metadata": {},
   "outputs": [],
   "source": [
    "# EDA"
   ]
  },
  {
   "cell_type": "code",
   "execution_count": 25,
   "id": "8858bb3e",
   "metadata": {},
   "outputs": [
    {
     "data": {
      "image/png": "[encoded data removed]",
      "text/plain": [
       "<Figure size 1000x600 with 1 Axes>"
      ]
     },
     "metadata": {},
     "output_type": "display_data"
    }
   ],
   "source": [
    "import matplotlib.pyplot as plt\n",
    "\n",
    "# Grouping the DataFrame by 'Crime' and counting the occurrences\n",
    "crime_counts = df.groupby('Crime').size().sort_values(ascending=True)\n",
    "\n",
    "# Creating a donut chart\n",
    "plt.figure(figsize=(10, 6))\n",
    "plt.title('Total Voilent and Non Voilent Crimes')\n",
    "\n",
    "# Data for the donut chart\n",
    "colors = plt.cm.Paired(range(len(crime_counts)))\n",
    "wedges, texts, autotexts = plt.pie(crime_counts, labels=crime_counts.index, autopct='%1.1f%%',\n",
    "                                   startangle=90, pctdistance=0.85, wedgeprops=dict(width=0.4, edgecolor='w'), colors=colors)\n",
    "\n",
    "# Increase the size of percentage labels inside the donut chart\n",
    "for autotext in autotexts:\n",
    "    autotext.set(size=10)\n",
    "\n",
    "# Equal aspect ratio ensures that pie is drawn as a circle\n",
    "plt.setp(wedges, width=0.4)\n",
    "plt.gca().set_aspect('equal')\n",
    "\n",
    "plt.show()\n"
   ]
  },
  {
   "cell_type": "code",
   "execution_count": 26,
   "id": "b0e438a1",
   "metadata": {},
   "outputs": [
    {
     "data": {
      "image/png": "[encoded data removed]",
      "text/plain": [
       "<Figure size 1000x600 with 1 Axes>"
      ]
     },
     "metadata": {},
     "output_type": "display_data"
    }
   ],
   "source": [
    "import matplotlib.pyplot as plt\n",
    "\n",
    "# Convert 'hour' column to integers\n",
    "df['hour'] = df['hour'].astype(int)\n",
    "\n",
    "# Assuming df is your DataFrame and 'hour' is the column you want to plot\n",
    "plt.figure(figsize=(10, 6))\n",
    "plt.hist(df['hour'], bins=24, edgecolor='black')\n",
    "plt.xlabel('Hour')\n",
    "plt.ylabel('Frequency')\n",
    "plt.title('Total Crime of Hours')\n",
    "plt.xticks(range(0, max(df['hour']) + 1))  # Sorting x-ticks from 0 to max hour\n",
    "plt.grid(axis='y', linestyle='--', alpha=0.7)\n",
    "plt.show()"
   ]
  },
  {
   "cell_type": "code",
   "execution_count": 27,
   "id": "f3ce3fdb",
   "metadata": {},
   "outputs": [
    {
     "data": {
      "image/png": "[encoded data removed]",
      "text/plain": [
       "<Figure size 800x500 with 1 Axes>"
      ]
     },
     "metadata": {},
     "output_type": "display_data"
    }
   ],
   "source": [
    "# Plot Bar Chart visualize for Crime Types\n",
    "plt.figure(figsize=(8,5))\n",
    "plt.title('Total crime by day of week')\n",
    "plt.ylabel('day_of_week')\n",
    "plt.xlabel('Amount of Crimes')\n",
    "\n",
    "df.groupby([df['day_of_week']]).size().sort_values(ascending=True).plot(kind='barh')\n",
    "\n",
    "plt.show()"
   ]
  },
  {
   "cell_type": "code",
   "execution_count": 28,
   "id": "e390167f",
   "metadata": {},
   "outputs": [
    {
     "data": {
      "image/png": "[encoded data removed]",
      "text/plain": [
       "<Figure size 1000x600 with 1 Axes>"
      ]
     },
     "metadata": {},
     "output_type": "display_data"
    }
   ],
   "source": [
    "import seaborn as sns\n",
    "import matplotlib.pyplot as plt\n",
    "\n",
    "top_n = 10\n",
    "# top 10 categories\n",
    "top_categories = df['Premis Cd'].value_counts().nlargest(top_n).index\n",
    "\n",
    "# Filtering the DataFrame for the top 10 categories\n",
    "df_top_categories = df[df['Premis Cd'].isin(top_categories)]\n",
    "\n",
    "# Count plot for the top 10 categories\n",
    "plt.figure(figsize=(10, 6))\n",
    "sns.countplot(data=df_top_categories, x='Premis Cd', order=top_categories)\n",
    "plt.xlabel('Premis Cd')\n",
    "plt.ylabel('Total Crime')\n",
    "plt.title('Premise code with most crimes')\n",
    "plt.xticks(rotation=45)  # Rotating x-axis labels for better visibility\n",
    "plt.tight_layout()\n",
    "plt.show()"
   ]
  },
  {
   "cell_type": "code",
   "execution_count": null,
   "id": "0caf514f",
   "metadata": {},
   "outputs": [],
   "source": [
    "# Preparing data for ML model"
   ]
  },
  {
   "cell_type": "code",
   "execution_count": 29,
   "id": "f2334e58",
   "metadata": {},
   "outputs": [
    {
     "data": {
      "text/html": [
       "<div>\n",
       "<style scoped>\n",
       "    .dataframe tbody tr th:only-of-type {\n",
       "        vertical-align: middle;\n",
       "    }\n",
       "\n",
       "    .dataframe tbody tr th {\n",
       "        vertical-align: top;\n",
       "    }\n",
       "\n",
       "    .dataframe thead th {\n",
       "        text-align: right;\n",
       "    }\n",
       "</style>\n",
       "<table border=\"1\" class=\"dataframe\">\n",
       "  <thead>\n",
       "    <tr style=\"text-align: right;\">\n",
       "      <th></th>\n",
       "      <th>AREA</th>\n",
       "      <th>block</th>\n",
       "      <th>Premis Cd</th>\n",
       "      <th>LAT</th>\n",
       "      <th>LON</th>\n",
       "      <th>hour</th>\n",
       "      <th>day_of_week</th>\n",
       "      <th>Crime</th>\n",
       "    </tr>\n",
       "  </thead>\n",
       "  <tbody>\n",
       "    <tr>\n",
       "      <th>0</th>\n",
       "      <td>3</td>\n",
       "      <td>1100</td>\n",
       "      <td>501.0</td>\n",
       "      <td>34.0141</td>\n",
       "      <td>-118.2978</td>\n",
       "      <td>22</td>\n",
       "      <td>Wednesday</td>\n",
       "      <td>violent</td>\n",
       "    </tr>\n",
       "    <tr>\n",
       "      <th>1</th>\n",
       "      <td>1</td>\n",
       "      <td>700</td>\n",
       "      <td>102.0</td>\n",
       "      <td>34.0459</td>\n",
       "      <td>-118.2545</td>\n",
       "      <td>3</td>\n",
       "      <td>Wednesday</td>\n",
       "      <td>violent</td>\n",
       "    </tr>\n",
       "    <tr>\n",
       "      <th>2</th>\n",
       "      <td>12</td>\n",
       "      <td>700</td>\n",
       "      <td>502.0</td>\n",
       "      <td>33.9739</td>\n",
       "      <td>-118.2630</td>\n",
       "      <td>12</td>\n",
       "      <td>Wednesday</td>\n",
       "      <td>non-violent</td>\n",
       "    </tr>\n",
       "    <tr>\n",
       "      <th>3</th>\n",
       "      <td>15</td>\n",
       "      <td>5400</td>\n",
       "      <td>502.0</td>\n",
       "      <td>34.1685</td>\n",
       "      <td>-118.4019</td>\n",
       "      <td>17</td>\n",
       "      <td>Wednesday</td>\n",
       "      <td>non-violent</td>\n",
       "    </tr>\n",
       "    <tr>\n",
       "      <th>4</th>\n",
       "      <td>19</td>\n",
       "      <td>14400</td>\n",
       "      <td>409.0</td>\n",
       "      <td>34.2198</td>\n",
       "      <td>-118.4468</td>\n",
       "      <td>4</td>\n",
       "      <td>Wednesday</td>\n",
       "      <td>non-violent</td>\n",
       "    </tr>\n",
       "  </tbody>\n",
       "</table>\n",
       "</div>"
      ],
      "text/plain": [
       "  AREA  block Premis Cd      LAT       LON  hour day_of_week        Crime\n",
       "0    3   1100     501.0  34.0141 -118.2978    22   Wednesday      violent\n",
       "1    1    700     102.0  34.0459 -118.2545     3   Wednesday      violent\n",
       "2   12    700     502.0  33.9739 -118.2630    12   Wednesday  non-violent\n",
       "3   15   5400     502.0  34.1685 -118.4019    17   Wednesday  non-violent\n",
       "4   19  14400     409.0  34.2198 -118.4468     4   Wednesday  non-violent"
      ]
     },
     "execution_count": 29,
     "metadata": {},
     "output_type": "execute_result"
    }
   ],
   "source": [
    "df.head()"
   ]
  },
  {
   "cell_type": "code",
   "execution_count": 30,
   "id": "dbb0d7d7",
   "metadata": {},
   "outputs": [],
   "source": [
    "# defining a dictionary mapping weekday names to integers and target variable ie. Crime to 0 and 1 - Label encoding\n",
    "weekday_to_int = {\n",
    "    'Sunday': 0,\n",
    "    'Monday': 1,\n",
    "    'Tuesday': 2,\n",
    "    'Wednesday': 3,\n",
    "    'Thursday': 4,\n",
    "    'Friday': 5,\n",
    "    'Saturday': 6\n",
    "}\n",
    "\n",
    "# using .map() function to replace the day_of_week and crime column with integers\n",
    "df['day_of_week'] = df['day_of_week'].map(weekday_to_int)\n",
    "df['day_of_week'] = df['day_of_week'].astype('category')\n",
    "\n",
    "crime_map = {\n",
    "    'non-violent': 0,\n",
    "    'violent': 1,\n",
    "}\n",
    "\n",
    "df['Crime'] = df['Crime'].map(crime_map)\n",
    "df['Crime'] = df['Crime'].astype('category')\n",
    "\n",
    "# Reducing the data\n",
    "df = df.head(50000)"
   ]
  },
  {
   "cell_type": "code",
   "execution_count": 31,
   "id": "b28b787e",
   "metadata": {},
   "outputs": [
    {
     "data": {
      "text/plain": [
       "(50000, 8)"
      ]
     },
     "execution_count": 31,
     "metadata": {},
     "output_type": "execute_result"
    }
   ],
   "source": [
    "df.shape"
   ]
  },
  {
   "cell_type": "code",
   "execution_count": null,
   "id": "552edee8",
   "metadata": {},
   "outputs": [],
   "source": [
    "# Seperating the target and feature ols"
   ]
  },
  {
   "cell_type": "code",
   "execution_count": 32,
   "id": "33f6b95f",
   "metadata": {},
   "outputs": [],
   "source": [
    "x = df.drop(columns=['Crime'])\n",
    "y = df['Crime']"
   ]
  },
  {
   "cell_type": "code",
   "execution_count": null,
   "id": "cd15d42a",
   "metadata": {},
   "outputs": [],
   "source": [
    "## Cheking for unique count of voilent and non voilent crimes"
   ]
  },
  {
   "cell_type": "code",
   "execution_count": 33,
   "id": "66671dc4",
   "metadata": {},
   "outputs": [
    {
     "data": {
      "text/plain": [
       "Crime\n",
       "0    34018\n",
       "1    15982\n",
       "Name: count, dtype: int64"
      ]
     },
     "execution_count": 33,
     "metadata": {},
     "output_type": "execute_result"
    }
   ],
   "source": [
    "y.value_counts() "
   ]
  },
  {
   "cell_type": "code",
   "execution_count": null,
   "id": "bc3b20b8",
   "metadata": {},
   "outputs": [],
   "source": [
    "# Here there are total 135573 'non-voilent' and 135573 'voilent' crime\n",
    "# Hence the data is imbalance so to fix it we use under-sampling technique to balance the target variable"
   ]
  },
  {
   "cell_type": "code",
   "execution_count": 34,
   "id": "a80a2989",
   "metadata": {},
   "outputs": [],
   "source": [
    "from imblearn.under_sampling import RandomUnderSampler\n",
    "\n",
    "# Create an instance of RandomUnderSampler\n",
    "rus = RandomUnderSampler(random_state=42)\n",
    "\n",
    "# Resample the data using RandomUnderSampler\n",
    "x_resampled, y_resampled = rus.fit_resample(x, y)                                                   "
   ]
  },
  {
   "cell_type": "code",
   "execution_count": 35,
   "id": "afff075b",
   "metadata": {},
   "outputs": [
    {
     "data": {
      "text/html": [
       "<div>\n",
       "<style scoped>\n",
       "    .dataframe tbody tr th:only-of-type {\n",
       "        vertical-align: middle;\n",
       "    }\n",
       "\n",
       "    .dataframe tbody tr th {\n",
       "        vertical-align: top;\n",
       "    }\n",
       "\n",
       "    .dataframe thead th {\n",
       "        text-align: right;\n",
       "    }\n",
       "</style>\n",
       "<table border=\"1\" class=\"dataframe\">\n",
       "  <thead>\n",
       "    <tr style=\"text-align: right;\">\n",
       "      <th></th>\n",
       "      <th>AREA</th>\n",
       "      <th>block</th>\n",
       "      <th>Premis Cd</th>\n",
       "      <th>LAT</th>\n",
       "      <th>LON</th>\n",
       "      <th>hour</th>\n",
       "      <th>day_of_week</th>\n",
       "      <th>Crime</th>\n",
       "    </tr>\n",
       "  </thead>\n",
       "  <tbody>\n",
       "    <tr>\n",
       "      <th>43918</th>\n",
       "      <td>8</td>\n",
       "      <td>17300</td>\n",
       "      <td>406.0</td>\n",
       "      <td>34.0419</td>\n",
       "      <td>-118.5540</td>\n",
       "      <td>20</td>\n",
       "      <td>0</td>\n",
       "      <td>0</td>\n",
       "    </tr>\n",
       "    <tr>\n",
       "      <th>21751</th>\n",
       "      <td>17</td>\n",
       "      <td>10600</td>\n",
       "      <td>502.0</td>\n",
       "      <td>34.2632</td>\n",
       "      <td>-118.4979</td>\n",
       "      <td>6</td>\n",
       "      <td>2</td>\n",
       "      <td>0</td>\n",
       "    </tr>\n",
       "    <tr>\n",
       "      <th>16345</th>\n",
       "      <td>17</td>\n",
       "      <td>600</td>\n",
       "      <td>108.0</td>\n",
       "      <td>34.2573</td>\n",
       "      <td>-118.5273</td>\n",
       "      <td>16</td>\n",
       "      <td>5</td>\n",
       "      <td>0</td>\n",
       "    </tr>\n",
       "    <tr>\n",
       "      <th>19261</th>\n",
       "      <td>20</td>\n",
       "      <td>300</td>\n",
       "      <td>101.0</td>\n",
       "      <td>34.0763</td>\n",
       "      <td>-118.3023</td>\n",
       "      <td>19</td>\n",
       "      <td>4</td>\n",
       "      <td>0</td>\n",
       "    </tr>\n",
       "    <tr>\n",
       "      <th>599</th>\n",
       "      <td>15</td>\n",
       "      <td>6000</td>\n",
       "      <td>104.0</td>\n",
       "      <td>34.1794</td>\n",
       "      <td>-118.3692</td>\n",
       "      <td>8</td>\n",
       "      <td>0</td>\n",
       "      <td>0</td>\n",
       "    </tr>\n",
       "  </tbody>\n",
       "</table>\n",
       "</div>"
      ],
      "text/plain": [
       "      AREA  block Premis Cd      LAT       LON  hour day_of_week Crime\n",
       "43918    8  17300     406.0  34.0419 -118.5540    20           0     0\n",
       "21751   17  10600     502.0  34.2632 -118.4979     6           2     0\n",
       "16345   17    600     108.0  34.2573 -118.5273    16           5     0\n",
       "19261   20    300     101.0  34.0763 -118.3023    19           4     0\n",
       "599     15   6000     104.0  34.1794 -118.3692     8           0     0"
      ]
     },
     "execution_count": 35,
     "metadata": {},
     "output_type": "execute_result"
    }
   ],
   "source": [
    "df = x_resampled.join(y_resampled)\n",
    "df.head()"
   ]
  },
  {
   "cell_type": "code",
   "execution_count": 36,
   "id": "2ad43ed8",
   "metadata": {},
   "outputs": [
    {
     "data": {
      "text/plain": [
       "Crime\n",
       "0    15982\n",
       "1    15982\n",
       "Name: count, dtype: int64"
      ]
     },
     "execution_count": 36,
     "metadata": {},
     "output_type": "execute_result"
    }
   ],
   "source": [
    "df.Crime.value_counts()"
   ]
  },
  {
   "cell_type": "code",
   "execution_count": 37,
   "id": "65f7069b",
   "metadata": {},
   "outputs": [
    {
     "data": {
      "text/html": [
       "<div>\n",
       "<style scoped>\n",
       "    .dataframe tbody tr th:only-of-type {\n",
       "        vertical-align: middle;\n",
       "    }\n",
       "\n",
       "    .dataframe tbody tr th {\n",
       "        vertical-align: top;\n",
       "    }\n",
       "\n",
       "    .dataframe thead th {\n",
       "        text-align: right;\n",
       "    }\n",
       "</style>\n",
       "<table border=\"1\" class=\"dataframe\">\n",
       "  <thead>\n",
       "    <tr style=\"text-align: right;\">\n",
       "      <th></th>\n",
       "      <th>AREA</th>\n",
       "      <th>block</th>\n",
       "      <th>Premis Cd</th>\n",
       "      <th>LAT</th>\n",
       "      <th>LON</th>\n",
       "      <th>hour</th>\n",
       "      <th>day_of_week</th>\n",
       "      <th>Crime</th>\n",
       "    </tr>\n",
       "  </thead>\n",
       "  <tbody>\n",
       "    <tr>\n",
       "      <th>AREA</th>\n",
       "      <td>1.000000</td>\n",
       "      <td>0.371880</td>\n",
       "      <td>0.004672</td>\n",
       "      <td>0.028259</td>\n",
       "      <td>-0.012238</td>\n",
       "      <td>0.008445</td>\n",
       "      <td>-0.000344</td>\n",
       "      <td>-0.018691</td>\n",
       "    </tr>\n",
       "    <tr>\n",
       "      <th>block</th>\n",
       "      <td>0.371880</td>\n",
       "      <td>1.000000</td>\n",
       "      <td>0.126404</td>\n",
       "      <td>0.045121</td>\n",
       "      <td>-0.019157</td>\n",
       "      <td>0.007708</td>\n",
       "      <td>0.006932</td>\n",
       "      <td>-0.125394</td>\n",
       "    </tr>\n",
       "    <tr>\n",
       "      <th>Premis Cd</th>\n",
       "      <td>0.004672</td>\n",
       "      <td>0.126404</td>\n",
       "      <td>1.000000</td>\n",
       "      <td>-0.022708</td>\n",
       "      <td>0.023440</td>\n",
       "      <td>-0.040184</td>\n",
       "      <td>0.001846</td>\n",
       "      <td>0.020283</td>\n",
       "    </tr>\n",
       "    <tr>\n",
       "      <th>LAT</th>\n",
       "      <td>0.028259</td>\n",
       "      <td>0.045121</td>\n",
       "      <td>-0.022708</td>\n",
       "      <td>1.000000</td>\n",
       "      <td>-0.997422</td>\n",
       "      <td>0.010260</td>\n",
       "      <td>0.005851</td>\n",
       "      <td>-0.020955</td>\n",
       "    </tr>\n",
       "    <tr>\n",
       "      <th>LON</th>\n",
       "      <td>-0.012238</td>\n",
       "      <td>-0.019157</td>\n",
       "      <td>0.023440</td>\n",
       "      <td>-0.997422</td>\n",
       "      <td>1.000000</td>\n",
       "      <td>-0.009746</td>\n",
       "      <td>-0.005393</td>\n",
       "      <td>0.015550</td>\n",
       "    </tr>\n",
       "    <tr>\n",
       "      <th>hour</th>\n",
       "      <td>0.008445</td>\n",
       "      <td>0.007708</td>\n",
       "      <td>-0.040184</td>\n",
       "      <td>0.010260</td>\n",
       "      <td>-0.009746</td>\n",
       "      <td>1.000000</td>\n",
       "      <td>0.016315</td>\n",
       "      <td>0.006023</td>\n",
       "    </tr>\n",
       "    <tr>\n",
       "      <th>day_of_week</th>\n",
       "      <td>-0.000344</td>\n",
       "      <td>0.006932</td>\n",
       "      <td>0.001846</td>\n",
       "      <td>0.005851</td>\n",
       "      <td>-0.005393</td>\n",
       "      <td>0.016315</td>\n",
       "      <td>1.000000</td>\n",
       "      <td>-0.025067</td>\n",
       "    </tr>\n",
       "    <tr>\n",
       "      <th>Crime</th>\n",
       "      <td>-0.018691</td>\n",
       "      <td>-0.125394</td>\n",
       "      <td>0.020283</td>\n",
       "      <td>-0.020955</td>\n",
       "      <td>0.015550</td>\n",
       "      <td>0.006023</td>\n",
       "      <td>-0.025067</td>\n",
       "      <td>1.000000</td>\n",
       "    </tr>\n",
       "  </tbody>\n",
       "</table>\n",
       "</div>"
      ],
      "text/plain": [
       "                 AREA     block  Premis Cd       LAT       LON      hour  \\\n",
       "AREA         1.000000  0.371880   0.004672  0.028259 -0.012238  0.008445   \n",
       "block        0.371880  1.000000   0.126404  0.045121 -0.019157  0.007708   \n",
       "Premis Cd    0.004672  0.126404   1.000000 -0.022708  0.023440 -0.040184   \n",
       "LAT          0.028259  0.045121  -0.022708  1.000000 -0.997422  0.010260   \n",
       "LON         -0.012238 -0.019157   0.023440 -0.997422  1.000000 -0.009746   \n",
       "hour         0.008445  0.007708  -0.040184  0.010260 -0.009746  1.000000   \n",
       "day_of_week -0.000344  0.006932   0.001846  0.005851 -0.005393  0.016315   \n",
       "Crime       -0.018691 -0.125394   0.020283 -0.020955  0.015550  0.006023   \n",
       "\n",
       "             day_of_week     Crime  \n",
       "AREA           -0.000344 -0.018691  \n",
       "block           0.006932 -0.125394  \n",
       "Premis Cd       0.001846  0.020283  \n",
       "LAT             0.005851 -0.020955  \n",
       "LON            -0.005393  0.015550  \n",
       "hour            0.016315  0.006023  \n",
       "day_of_week     1.000000 -0.025067  \n",
       "Crime          -0.025067  1.000000  "
      ]
     },
     "execution_count": 37,
     "metadata": {},
     "output_type": "execute_result"
    }
   ],
   "source": [
    "# Checking for correlation between independent variables \n",
    "df.corr()"
   ]
  },
  {
   "cell_type": "code",
   "execution_count": null,
   "id": "00781f5a",
   "metadata": {},
   "outputs": [],
   "source": [
    "# Dropping LON as it is highly correlated with LAT."
   ]
  },
  {
   "cell_type": "code",
   "execution_count": 38,
   "id": "9543af28",
   "metadata": {},
   "outputs": [],
   "source": [
    "df = df.drop(columns=['LON'])"
   ]
  },
  {
   "cell_type": "code",
   "execution_count": 39,
   "id": "a7a487a4",
   "metadata": {},
   "outputs": [
    {
     "data": {
      "text/html": [
       "<div>\n",
       "<style scoped>\n",
       "    .dataframe tbody tr th:only-of-type {\n",
       "        vertical-align: middle;\n",
       "    }\n",
       "\n",
       "    .dataframe tbody tr th {\n",
       "        vertical-align: top;\n",
       "    }\n",
       "\n",
       "    .dataframe thead th {\n",
       "        text-align: right;\n",
       "    }\n",
       "</style>\n",
       "<table border=\"1\" class=\"dataframe\">\n",
       "  <thead>\n",
       "    <tr style=\"text-align: right;\">\n",
       "      <th></th>\n",
       "      <th>AREA</th>\n",
       "      <th>block</th>\n",
       "      <th>Premis Cd</th>\n",
       "      <th>LAT</th>\n",
       "      <th>hour</th>\n",
       "      <th>day_of_week</th>\n",
       "      <th>Crime</th>\n",
       "    </tr>\n",
       "  </thead>\n",
       "  <tbody>\n",
       "    <tr>\n",
       "      <th>43918</th>\n",
       "      <td>8</td>\n",
       "      <td>17300</td>\n",
       "      <td>406.0</td>\n",
       "      <td>34.0419</td>\n",
       "      <td>20</td>\n",
       "      <td>0</td>\n",
       "      <td>0</td>\n",
       "    </tr>\n",
       "    <tr>\n",
       "      <th>21751</th>\n",
       "      <td>17</td>\n",
       "      <td>10600</td>\n",
       "      <td>502.0</td>\n",
       "      <td>34.2632</td>\n",
       "      <td>6</td>\n",
       "      <td>2</td>\n",
       "      <td>0</td>\n",
       "    </tr>\n",
       "    <tr>\n",
       "      <th>16345</th>\n",
       "      <td>17</td>\n",
       "      <td>600</td>\n",
       "      <td>108.0</td>\n",
       "      <td>34.2573</td>\n",
       "      <td>16</td>\n",
       "      <td>5</td>\n",
       "      <td>0</td>\n",
       "    </tr>\n",
       "    <tr>\n",
       "      <th>19261</th>\n",
       "      <td>20</td>\n",
       "      <td>300</td>\n",
       "      <td>101.0</td>\n",
       "      <td>34.0763</td>\n",
       "      <td>19</td>\n",
       "      <td>4</td>\n",
       "      <td>0</td>\n",
       "    </tr>\n",
       "    <tr>\n",
       "      <th>599</th>\n",
       "      <td>15</td>\n",
       "      <td>6000</td>\n",
       "      <td>104.0</td>\n",
       "      <td>34.1794</td>\n",
       "      <td>8</td>\n",
       "      <td>0</td>\n",
       "      <td>0</td>\n",
       "    </tr>\n",
       "  </tbody>\n",
       "</table>\n",
       "</div>"
      ],
      "text/plain": [
       "      AREA  block Premis Cd      LAT  hour day_of_week Crime\n",
       "43918    8  17300     406.0  34.0419    20           0     0\n",
       "21751   17  10600     502.0  34.2632     6           2     0\n",
       "16345   17    600     108.0  34.2573    16           5     0\n",
       "19261   20    300     101.0  34.0763    19           4     0\n",
       "599     15   6000     104.0  34.1794     8           0     0"
      ]
     },
     "execution_count": 39,
     "metadata": {},
     "output_type": "execute_result"
    }
   ],
   "source": [
    "df.head()"
   ]
  },
  {
   "cell_type": "code",
   "execution_count": 40,
   "id": "8635819e",
   "metadata": {},
   "outputs": [],
   "source": [
    "# One-hot encoding all columns except for LAT, LON, and Crime\n",
    "df_encoded = pd.get_dummies(df[['AREA','block','Premis Cd','hour','day_of_week']],drop_first=True)"
   ]
  },
  {
   "cell_type": "code",
   "execution_count": 41,
   "id": "80816409",
   "metadata": {},
   "outputs": [],
   "source": [
    "# Concatenating the one-hot encoded columns with the original dataframe\n",
    "new_df = pd.concat([df[['LAT', 'Crime']], df_encoded], axis=1)"
   ]
  },
  {
   "cell_type": "code",
   "execution_count": 42,
   "id": "31d061fb",
   "metadata": {},
   "outputs": [
    {
     "name": "stdout",
     "output_type": "stream",
     "text": [
      "<class 'pandas.core.frame.DataFrame'>\n",
      "Index: 31964 entries, 43918 to 63003\n",
      "Columns: 737 entries, LAT to day_of_week_6\n",
      "dtypes: bool(734), category(1), float64(1), int32(1)\n",
      "memory usage: 24.0 MB\n"
     ]
    }
   ],
   "source": [
    "new_df.info()"
   ]
  },
  {
   "cell_type": "code",
   "execution_count": 43,
   "id": "f36d4d85",
   "metadata": {},
   "outputs": [
    {
     "data": {
      "text/html": [
       "<div>\n",
       "<style scoped>\n",
       "    .dataframe tbody tr th:only-of-type {\n",
       "        vertical-align: middle;\n",
       "    }\n",
       "\n",
       "    .dataframe tbody tr th {\n",
       "        vertical-align: top;\n",
       "    }\n",
       "\n",
       "    .dataframe thead th {\n",
       "        text-align: right;\n",
       "    }\n",
       "</style>\n",
       "<table border=\"1\" class=\"dataframe\">\n",
       "  <thead>\n",
       "    <tr style=\"text-align: right;\">\n",
       "      <th></th>\n",
       "      <th>LAT</th>\n",
       "      <th>Crime</th>\n",
       "      <th>hour</th>\n",
       "      <th>AREA_2</th>\n",
       "      <th>AREA_3</th>\n",
       "      <th>AREA_4</th>\n",
       "      <th>AREA_5</th>\n",
       "      <th>AREA_6</th>\n",
       "      <th>AREA_7</th>\n",
       "      <th>AREA_8</th>\n",
       "      <th>...</th>\n",
       "      <th>Premis Cd_968.0</th>\n",
       "      <th>Premis Cd_969.0</th>\n",
       "      <th>Premis Cd_970.0</th>\n",
       "      <th>Premis Cd_971.0</th>\n",
       "      <th>day_of_week_1</th>\n",
       "      <th>day_of_week_2</th>\n",
       "      <th>day_of_week_3</th>\n",
       "      <th>day_of_week_4</th>\n",
       "      <th>day_of_week_5</th>\n",
       "      <th>day_of_week_6</th>\n",
       "    </tr>\n",
       "  </thead>\n",
       "  <tbody>\n",
       "    <tr>\n",
       "      <th>43918</th>\n",
       "      <td>34.0419</td>\n",
       "      <td>0</td>\n",
       "      <td>20</td>\n",
       "      <td>False</td>\n",
       "      <td>False</td>\n",
       "      <td>False</td>\n",
       "      <td>False</td>\n",
       "      <td>False</td>\n",
       "      <td>False</td>\n",
       "      <td>True</td>\n",
       "      <td>...</td>\n",
       "      <td>False</td>\n",
       "      <td>False</td>\n",
       "      <td>False</td>\n",
       "      <td>False</td>\n",
       "      <td>False</td>\n",
       "      <td>False</td>\n",
       "      <td>False</td>\n",
       "      <td>False</td>\n",
       "      <td>False</td>\n",
       "      <td>False</td>\n",
       "    </tr>\n",
       "    <tr>\n",
       "      <th>21751</th>\n",
       "      <td>34.2632</td>\n",
       "      <td>0</td>\n",
       "      <td>6</td>\n",
       "      <td>False</td>\n",
       "      <td>False</td>\n",
       "      <td>False</td>\n",
       "      <td>False</td>\n",
       "      <td>False</td>\n",
       "      <td>False</td>\n",
       "      <td>False</td>\n",
       "      <td>...</td>\n",
       "      <td>False</td>\n",
       "      <td>False</td>\n",
       "      <td>False</td>\n",
       "      <td>False</td>\n",
       "      <td>False</td>\n",
       "      <td>True</td>\n",
       "      <td>False</td>\n",
       "      <td>False</td>\n",
       "      <td>False</td>\n",
       "      <td>False</td>\n",
       "    </tr>\n",
       "    <tr>\n",
       "      <th>16345</th>\n",
       "      <td>34.2573</td>\n",
       "      <td>0</td>\n",
       "      <td>16</td>\n",
       "      <td>False</td>\n",
       "      <td>False</td>\n",
       "      <td>False</td>\n",
       "      <td>False</td>\n",
       "      <td>False</td>\n",
       "      <td>False</td>\n",
       "      <td>False</td>\n",
       "      <td>...</td>\n",
       "      <td>False</td>\n",
       "      <td>False</td>\n",
       "      <td>False</td>\n",
       "      <td>False</td>\n",
       "      <td>False</td>\n",
       "      <td>False</td>\n",
       "      <td>False</td>\n",
       "      <td>False</td>\n",
       "      <td>True</td>\n",
       "      <td>False</td>\n",
       "    </tr>\n",
       "    <tr>\n",
       "      <th>19261</th>\n",
       "      <td>34.0763</td>\n",
       "      <td>0</td>\n",
       "      <td>19</td>\n",
       "      <td>False</td>\n",
       "      <td>False</td>\n",
       "      <td>False</td>\n",
       "      <td>False</td>\n",
       "      <td>False</td>\n",
       "      <td>False</td>\n",
       "      <td>False</td>\n",
       "      <td>...</td>\n",
       "      <td>False</td>\n",
       "      <td>False</td>\n",
       "      <td>False</td>\n",
       "      <td>False</td>\n",
       "      <td>False</td>\n",
       "      <td>False</td>\n",
       "      <td>False</td>\n",
       "      <td>True</td>\n",
       "      <td>False</td>\n",
       "      <td>False</td>\n",
       "    </tr>\n",
       "    <tr>\n",
       "      <th>599</th>\n",
       "      <td>34.1794</td>\n",
       "      <td>0</td>\n",
       "      <td>8</td>\n",
       "      <td>False</td>\n",
       "      <td>False</td>\n",
       "      <td>False</td>\n",
       "      <td>False</td>\n",
       "      <td>False</td>\n",
       "      <td>False</td>\n",
       "      <td>False</td>\n",
       "      <td>...</td>\n",
       "      <td>False</td>\n",
       "      <td>False</td>\n",
       "      <td>False</td>\n",
       "      <td>False</td>\n",
       "      <td>False</td>\n",
       "      <td>False</td>\n",
       "      <td>False</td>\n",
       "      <td>False</td>\n",
       "      <td>False</td>\n",
       "      <td>False</td>\n",
       "    </tr>\n",
       "  </tbody>\n",
       "</table>\n",
       "<p>5 rows × 737 columns</p>\n",
       "</div>"
      ],
      "text/plain": [
       "           LAT Crime  hour  AREA_2  AREA_3  AREA_4  AREA_5  AREA_6  AREA_7  \\\n",
       "43918  34.0419     0    20   False   False   False   False   False   False   \n",
       "21751  34.2632     0     6   False   False   False   False   False   False   \n",
       "16345  34.2573     0    16   False   False   False   False   False   False   \n",
       "19261  34.0763     0    19   False   False   False   False   False   False   \n",
       "599    34.1794     0     8   False   False   False   False   False   False   \n",
       "\n",
       "       AREA_8  ...  Premis Cd_968.0  Premis Cd_969.0  Premis Cd_970.0  \\\n",
       "43918    True  ...            False            False            False   \n",
       "21751   False  ...            False            False            False   \n",
       "16345   False  ...            False            False            False   \n",
       "19261   False  ...            False            False            False   \n",
       "599     False  ...            False            False            False   \n",
       "\n",
       "       Premis Cd_971.0  day_of_week_1  day_of_week_2  day_of_week_3  \\\n",
       "43918            False          False          False          False   \n",
       "21751            False          False           True          False   \n",
       "16345            False          False          False          False   \n",
       "19261            False          False          False          False   \n",
       "599              False          False          False          False   \n",
       "\n",
       "       day_of_week_4  day_of_week_5  day_of_week_6  \n",
       "43918          False          False          False  \n",
       "21751          False          False          False  \n",
       "16345          False           True          False  \n",
       "19261           True          False          False  \n",
       "599            False          False          False  \n",
       "\n",
       "[5 rows x 737 columns]"
      ]
     },
     "execution_count": 43,
     "metadata": {},
     "output_type": "execute_result"
    }
   ],
   "source": [
    "new_df.head()"
   ]
  },
  {
   "cell_type": "code",
   "execution_count": 44,
   "id": "33259f90",
   "metadata": {},
   "outputs": [],
   "source": [
    "X = new_df.drop(columns=['Crime'])\n",
    "y = new_df[\"Crime\"]"
   ]
  },
  {
   "cell_type": "code",
   "execution_count": 45,
   "id": "a7b8fdeb",
   "metadata": {},
   "outputs": [],
   "source": [
    "from sklearn.model_selection import train_test_split\n",
    "from sklearn.ensemble import RandomForestClassifier\n",
    "from sklearn.linear_model import LogisticRegression\n",
    "from sklearn.tree import DecisionTreeClassifier\n",
    "from sklearn.metrics import accuracy_score,f1_score,classification_report,confusion_matrix,roc_curve, auc\n",
    "from sklearn.feature_selection import SelectFromModel"
   ]
  },
  {
   "cell_type": "code",
   "execution_count": 46,
   "id": "c95a93a7",
   "metadata": {},
   "outputs": [],
   "source": [
    "#Spliting the dataset to Training Set & Test Set\n",
    "X_train, X_test, y_train, y_test = train_test_split(X, y, test_size=0.2, random_state=101)"
   ]
  },
  {
   "cell_type": "code",
   "execution_count": 47,
   "id": "01984d9b",
   "metadata": {},
   "outputs": [],
   "source": [
    "def train_model(clf, X_train, y_train):\n",
    "    clf.fit(X_train, y_train)\n",
    "\n",
    "def predict_data(clf, X_test, y_test):\n",
    "    # Predict labels using the classifier\n",
    "    y_pred = clf.predict(X_test)\n",
    "    \n",
    "    # Calculate F1 score\n",
    "    f1 = f1_score(y_test, y_pred)\n",
    "    \n",
    "    # Calculate accuracy\n",
    "    acc = accuracy_score(y_test, y_pred)\n",
    "    \n",
    "    # Generate confusion matrix\n",
    "    con_matrix = confusion_matrix(y_test, y_pred)\n",
    "    \n",
    "    # Generate classification report\n",
    "    class_report = classification_report(y_test, y_pred)\n",
    "    \n",
    "    # Calculate ROC curve and AUC\n",
    "    y_score = clf.predict_proba(X_test)[:, 1]\n",
    "    fpr, tpr, _ = roc_curve(y_test, y_score)\n",
    "    roc_auc = auc(fpr, tpr)\n",
    "    \n",
    "    return f1, acc, con_matrix, class_report, fpr, tpr, roc_auc\n",
    "\n",
    "def model(clf, X_train, y_train, X_test, y_test):\n",
    "    train_model(clf, X_train, y_train)\n",
    "    \n",
    "    f1, acc, con_matrix, class_report, fpr, tpr, roc_auc = predict_data(clf, X_test, y_test)\n",
    "    print(\"Test Data:\")\n",
    "    print(\"-\" * 20)\n",
    "    print(\"F1 Score: {}\".format(f1))\n",
    "    print(\"Accuracy: {}\".format(acc))\n",
    "    print(\"Confusion Matrix:\")\n",
    "    print(con_matrix)\n",
    "    print(\"Classification Report:\")\n",
    "    print(class_report)\n",
    "    print(\"-\" * 20)\n",
    "\n",
    "    # Plot ROC curve\n",
    "    plt.figure(figsize=(8, 6))\n",
    "    lw = 2\n",
    "    plt.plot(fpr, tpr, color='darkorange', lw=lw, label='ROC curve (area = {:.2f})'.format(roc_auc))\n",
    "    plt.plot([0, 1], [0, 1], color='navy', lw=lw, linestyle='--')\n",
    "    plt.xlabel('False Positive Rate')\n",
    "    plt.ylabel('True Positive Rate')\n",
    "    plt.title('Receiver Operating Characteristic')\n",
    "    plt.legend(loc='lower right')\n",
    "    plt.show()"
   ]
  },
  {
   "cell_type": "code",
   "execution_count": 48,
   "id": "be7b5331",
   "metadata": {},
   "outputs": [
    {
     "name": "stdout",
     "output_type": "stream",
     "text": [
      "Logistic Regression\n",
      "--------------------\n",
      "Test Data:\n",
      "--------------------\n",
      "F1 Score: 0.6717748240813136\n",
      "Accuracy: 0.6716721414046614\n",
      "Confusion Matrix:\n",
      "[[2146 1026]\n",
      " [1073 2148]]\n",
      "Classification Report:\n",
      "              precision    recall  f1-score   support\n",
      "\n",
      "           0       0.67      0.68      0.67      3172\n",
      "           1       0.68      0.67      0.67      3221\n",
      "\n",
      "    accuracy                           0.67      6393\n",
      "   macro avg       0.67      0.67      0.67      6393\n",
      "weighted avg       0.67      0.67      0.67      6393\n",
      "\n",
      "--------------------\n"
     ]
    },
    {
     "data": {
      "image/png": "[encoded data removed]",
      "text/plain": [
       "<Figure size 800x600 with 1 Axes>"
      ]
     },
     "metadata": {},
     "output_type": "display_data"
    }
   ],
   "source": [
    "print(\"Logistic Regression\")\n",
    "print(\"-\" * 20)\n",
    "lrc = LogisticRegression()\n",
    "model(lrc, X_train, y_train, X_test, y_test)"
   ]
  },
  {
   "cell_type": "code",
   "execution_count": 49,
   "id": "6f60dfcb",
   "metadata": {},
   "outputs": [
    {
     "name": "stdout",
     "output_type": "stream",
     "text": [
      "\n",
      "Decision Tree\n",
      "--------------------\n",
      "Test Data:\n",
      "--------------------\n",
      "F1 Score: 0.6384485146990919\n",
      "Accuracy: 0.6325668700140779\n",
      "Confusion Matrix:\n",
      "[[1970 1202]\n",
      " [1147 2074]]\n",
      "Classification Report:\n",
      "              precision    recall  f1-score   support\n",
      "\n",
      "           0       0.63      0.62      0.63      3172\n",
      "           1       0.63      0.64      0.64      3221\n",
      "\n",
      "    accuracy                           0.63      6393\n",
      "   macro avg       0.63      0.63      0.63      6393\n",
      "weighted avg       0.63      0.63      0.63      6393\n",
      "\n",
      "--------------------\n"
     ]
    },
    {
     "data": {
      "image/png": "[encoded data removed]",
      "text/plain": [
       "<Figure size 800x600 with 1 Axes>"
      ]
     },
     "metadata": {},
     "output_type": "display_data"
    }
   ],
   "source": [
    "print(\"\\nDecision Tree\")\n",
    "print(\"-\" * 20)\n",
    "dtc = DecisionTreeClassifier()\n",
    "model(dtc, X_train, y_train, X_test, y_test)"
   ]
  },
  {
   "cell_type": "code",
   "execution_count": 50,
   "id": "32e98edf",
   "metadata": {},
   "outputs": [
    {
     "name": "stdout",
     "output_type": "stream",
     "text": [
      "\n",
      "Random Forest Classifier\n",
      "--------------------\n",
      "Test Data:\n",
      "--------------------\n",
      "F1 Score: 0.665414710485133\n",
      "Accuracy: 0.6655717190677304\n",
      "Confusion Matrix:\n",
      "[[2129 1043]\n",
      " [1095 2126]]\n",
      "Classification Report:\n",
      "              precision    recall  f1-score   support\n",
      "\n",
      "           0       0.66      0.67      0.67      3172\n",
      "           1       0.67      0.66      0.67      3221\n",
      "\n",
      "    accuracy                           0.67      6393\n",
      "   macro avg       0.67      0.67      0.67      6393\n",
      "weighted avg       0.67      0.67      0.67      6393\n",
      "\n",
      "--------------------\n"
     ]
    },
    {
     "data": {
      "image/png": "[encoded data removed]",
      "text/plain": [
       "<Figure size 800x600 with 1 Axes>"
      ]
     },
     "metadata": {},
     "output_type": "display_data"
    }
   ],
   "source": [
    "print(\"\\nRandom Forest Classifier\")\n",
    "print(\"-\" * 20)\n",
    "rfc = RandomForestClassifier(n_estimators=100)\n",
    "model(rfc, X_train, y_train, X_test, y_test)"
   ]
  },
  {
   "cell_type": "code",
   "execution_count": null,
   "id": "78140532",
   "metadata": {},
   "outputs": [],
   "source": [
    "# Hyperparameter tuning the Logistic model using Grid search cv and applying cross-validation"
   ]
  },
  {
   "cell_type": "code",
   "execution_count": 51,
   "id": "9d4ccbaa",
   "metadata": {},
   "outputs": [
    {
     "name": "stdout",
     "output_type": "stream",
     "text": [
      "Best Parameters for Random Forest:  {'n_estimators': 150}\n",
      "Cross-validated F1 Score: 0.69\n"
     ]
    }
   ],
   "source": [
    "from sklearn.model_selection import GridSearchCV, cross_val_score\n",
    "from sklearn.metrics import make_scorer, f1_score\n",
    "\n",
    "# Define F1 score as the evaluation metric\n",
    "f1_scorer = make_scorer(f1_score)\n",
    "\n",
    "# Random Forest Classifier (rfc)\n",
    "rfc_params = {'n_estimators': [100, 150]}\n",
    "rfc_grid = GridSearchCV(rfc, rfc_params, cv=5, scoring=f1_scorer)\n",
    "rfc_grid.fit(X_train, y_train)\n",
    "\n",
    "# Best parameters and results\n",
    "print(\"Best Parameters for Random Forest: \", rfc_grid.best_params_)\n",
    "print(\"Cross-validated F1 Score: {:.2f}\".format(rfc_grid.best_score_))"
   ]
  },
  {
   "cell_type": "code",
   "execution_count": 52,
   "id": "313030b9",
   "metadata": {},
   "outputs": [],
   "source": [
    "from sklearn.feature_selection import SelectFromModel\n",
    "\n",
    "def plot_top_features(clf, X, top_n=5):\n",
    "    \n",
    "    # Selecting top features using SelectFromModel\n",
    "    sfm = SelectFromModel(clf, prefit=True, threshold=-np.inf, max_features=top_n)\n",
    "    X_transformed = sfm.transform(X)\n",
    "    \n",
    "    feature_indices = sfm.get_support(indices=True)\n",
    "    \n",
    "    # feature names\n",
    "    feature_names = X.columns[feature_indices]\n",
    "    \n",
    "    # feature importances\n",
    "    if hasattr(clf, 'coef_'):\n",
    "        feature_importances = clf.coef_.flatten()[feature_indices]\n",
    "    elif hasattr(clf, 'feature_importances_'):\n",
    "        feature_importances = clf.feature_importances_[feature_indices]\n",
    "    else:\n",
    "        raise ValueError(\"Feature importances are not available for this type of classifier.\")\n",
    "    \n",
    "    # Sorting features by importance values\n",
    "    sorted_indices = feature_importances.argsort()\n",
    "    feature_names = feature_names[sorted_indices]\n",
    "    feature_importances = feature_importances[sorted_indices]\n",
    "\n",
    "    # Plot \n",
    "    plt.figure(figsize=(10, 6))\n",
    "    plt.barh(range(top_n), feature_importances[-top_n:], align='center')\n",
    "    plt.yticks(range(top_n), feature_names[-top_n:])\n",
    "    plt.xlabel('Feature Importance')\n",
    "    plt.title(f'Top {top_n} Features Contributing to Crime Type Prediction')\n",
    "    plt.show()"
   ]
  },
  {
   "cell_type": "code",
   "execution_count": 53,
   "id": "ae7d690d",
   "metadata": {},
   "outputs": [
    {
     "data": {
      "image/png": "[encoded data removed]",
      "text/plain": [
       "<Figure size 1000x600 with 1 Axes>"
      ]
     },
     "metadata": {},
     "output_type": "display_data"
    }
   ],
   "source": [
    "plot_top_features(rfc_grid.best_estimator_, X, top_n=5)"
   ]
  },
  {
   "cell_type": "markdown",
   "id": "eaf1e972",
   "metadata": {},
   "source": [
    "### Implementing PCA "
   ]
  },
  {
   "cell_type": "code",
   "execution_count": 54,
   "id": "1a5bac1e",
   "metadata": {},
   "outputs": [],
   "source": [
    "from sklearn.decomposition import PCA\n",
    "from sklearn.preprocessing import StandardScaler"
   ]
  },
  {
   "cell_type": "code",
   "execution_count": 55,
   "id": "3aa29074",
   "metadata": {},
   "outputs": [
    {
     "data": {
      "text/plain": [
       "Index(['LAT', 'Crime', 'hour', 'AREA_2', 'AREA_3', 'AREA_4', 'AREA_5',\n",
       "       'AREA_6', 'AREA_7', 'AREA_8',\n",
       "       ...\n",
       "       'Premis Cd_968.0', 'Premis Cd_969.0', 'Premis Cd_970.0',\n",
       "       'Premis Cd_971.0', 'day_of_week_1', 'day_of_week_2', 'day_of_week_3',\n",
       "       'day_of_week_4', 'day_of_week_5', 'day_of_week_6'],\n",
       "      dtype='object', length=737)"
      ]
     },
     "execution_count": 55,
     "metadata": {},
     "output_type": "execute_result"
    }
   ],
   "source": [
    "new_df.columns"
   ]
  },
  {
   "cell_type": "code",
   "execution_count": 56,
   "id": "dbb36444",
   "metadata": {},
   "outputs": [
    {
     "name": "stdout",
     "output_type": "stream",
     "text": [
      "<class 'pandas.core.frame.DataFrame'>\n",
      "Index: 31964 entries, 43918 to 63003\n",
      "Columns: 737 entries, LAT to day_of_week_6\n",
      "dtypes: bool(734), category(1), float64(1), int32(1)\n",
      "memory usage: 24.0 MB\n"
     ]
    }
   ],
   "source": [
    "new_df.info()"
   ]
  },
  {
   "cell_type": "code",
   "execution_count": 57,
   "id": "6cd8482b",
   "metadata": {},
   "outputs": [],
   "source": [
    "# Excluding the target variable 'Crime'\n",
    "X = df.drop('Crime', axis=1) \n",
    "\n",
    "# Standardize the features\n",
    "scaler = StandardScaler()\n",
    "X_standardized = scaler.fit_transform(X)"
   ]
  },
  {
   "cell_type": "code",
   "execution_count": 58,
   "id": "d515845d",
   "metadata": {},
   "outputs": [],
   "source": [
    "from sklearn.impute import SimpleImputer\n",
    "from sklearn.decomposition import PCA\n",
    "from sklearn.preprocessing import StandardScaler\n",
    "\n",
    "imputer = SimpleImputer(strategy='mean')\n",
    "X_imputed = imputer.fit_transform(X_standardized)\n",
    "\n",
    "# Standardize the data\n",
    "scaler = StandardScaler()\n",
    "X_standardized = scaler.fit_transform(X_imputed)\n",
    "\n",
    "# Applying PCA\n",
    "pca = PCA(n_components=0.95)\n",
    "X_pca = pca.fit_transform(X_standardized)"
   ]
  },
  {
   "cell_type": "code",
   "execution_count": 59,
   "id": "0c841bf8",
   "metadata": {},
   "outputs": [
    {
     "name": "stdout",
     "output_type": "stream",
     "text": [
      "Number of components after PCA: 6\n"
     ]
    },
    {
     "data": {
      "image/png": "[encoded data removed]",
      "text/plain": [
       "<Figure size 640x480 with 1 Axes>"
      ]
     },
     "metadata": {},
     "output_type": "display_data"
    }
   ],
   "source": [
    "# Print the number of components after PCA\n",
    "print(\"Number of components after PCA:\", pca.n_components_)\n",
    "\n",
    "# Now X_pca contains the reduced feature matrix\n",
    "\n",
    "# Optional: Visualize the explained variance ratio\n",
    "explained_variance_ratio = pca.explained_variance_ratio_\n",
    "cumulative_variance_ratio = explained_variance_ratio.cumsum()\n",
    "\n",
    "plt.plot(cumulative_variance_ratio, marker='o')\n",
    "plt.xlabel('Number of Principal Components')\n",
    "plt.ylabel('Cumulative Explained Variance Ratio')\n",
    "plt.title('Explained Variance Ratio with PCA')\n",
    "plt.show()"
   ]
  },
  {
   "cell_type": "code",
   "execution_count": 60,
   "id": "53bcc5c7",
   "metadata": {},
   "outputs": [
    {
     "name": "stdout",
     "output_type": "stream",
     "text": [
      "Accuracy: 0.6331925543563273\n"
     ]
    }
   ],
   "source": [
    "from sklearn.model_selection import train_test_split\n",
    "from sklearn.ensemble import RandomForestClassifier\n",
    "from sklearn.metrics import accuracy_score\n",
    "\n",
    "# Using PCA features and dependent variable to train test the model\n",
    "X_train, X_test, y_train, y_test = train_test_split(X_pca, y, test_size=0.2, random_state=42)\n",
    "\n",
    "# Initialize Random Forest classifier\n",
    "rf_classifier = RandomForestClassifier(n_estimators=100, random_state=42)\n",
    "\n",
    "# Train the model\n",
    "rf_classifier.fit(X_train, y_train)\n",
    "\n",
    "# Make predictions on the test set\n",
    "y_pred = rf_classifier.predict(X_test)\n",
    "\n",
    "# Check accuracy\n",
    "accuracy = accuracy_score(y_test, y_pred)\n",
    "print(f\"Accuracy: {accuracy}\")"
   ]
  },
  {
   "cell_type": "markdown",
   "id": "8ce0f571",
   "metadata": {},
   "source": [
    "Conclusion:\n",
    "\n",
    "In this project, our primary aim was to develop accurate crime prediction models, with a specific focus on binary classification – differentiating between violent and non-violent crimes. \n",
    "\n",
    "We assessed three models: the Random Forest Classifier, Logistic Classifier, and Decision Tree model. By analyzing historical crime data and training these machine learning models, we intended to equip law enforcement agencies with effective tools for distinguishing between these two major crime categories, aiding strategic decision-making and targeted interventions for crime prevention.\n",
    "\n",
    "Among the evaluated models, the Random Forest Classifier emerged as the top-performing model, achieving an accuracy of 69%. \n",
    "\n",
    "The Logistic Classifier consistently demonstrated competitive accuracy levels around 68%. However, the Decision Tree model exhibited relatively lower accuracy, standing at 64%.\n",
    "\n",
    "This binary classification approach provides law enforcement agencies with robust tools to categorize crimes based on severity, enabling targeted interventions and optimized resource allocation. \n",
    "\n",
    "While the Random Forest Classifier proved to be the most accurate in this context, the Logistic Classifier also displayed reliable performance. The Decision Tree model, while less accurate, still contributes valuable insights.\n",
    "\n",
    "In conclusion, our project successfully developed accurate crime prediction models for binary classification, emphasizing the distinction between violent and non-violent crimes. \n",
    "\n",
    "The top-performing models, particularly the Random Forest Classifier, demonstrate promising accuracy levels and hold the potential for enhancing the effectiveness of crime prevention strategies, resource allocation, and response mechanisms. \n",
    "\n",
    "Future research can focus on refining these models, exploring additional features, and incorporating real-time data to ensure their continued relevance and applicability in the evolving landscape of crime analysis.\n",
    "\n",
    "\n",
    "\n",
    "\n",
    "\n"
   ]
  },
  {
   "cell_type": "code",
   "execution_count": null,
   "id": "78a3400c",
   "metadata": {},
   "outputs": [],
   "source": []
  }
 ],
 "metadata": {
  "kernelspec": {
   "display_name": "Python 3 (ipykernel)",
   "language": "python",
   "name": "python3"
  },
  "language_info": {
   "codemirror_mode": {
    "name": "ipython",
    "version": 3
   },
   "file_extension": ".py",
   "mimetype": "text/x-python",
   "name": "python",
   "nbconvert_exporter": "python",
   "pygments_lexer": "ipython3",
   "version": "3.11.5"
  }
 },
 "nbformat": 4,
 "nbformat_minor": 5
}
